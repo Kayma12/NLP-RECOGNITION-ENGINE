{
 "cells": [
  {
   "cell_type": "markdown",
   "metadata": {},
   "source": [
    "### In this tutorial, you will discover how you can use Keras to develop and evaluate neural network models for multi-class classification problems.\n",
    "\n"
   ]
  },
  {
   "cell_type": "markdown",
   "metadata": {},
   "source": [
    "### Load Data"
   ]
  },
  {
   "cell_type": "code",
   "execution_count": 3,
   "metadata": {},
   "outputs": [],
   "source": [
    "import numpy as np\n",
    "import pandas as pd\n",
    "import matplotlib.pyplot as plt"
   ]
  },
  {
   "cell_type": "code",
   "execution_count": 4,
   "metadata": {},
   "outputs": [],
   "source": [
    "df = pd.read_csv('iris.data', header=None)"
   ]
  },
  {
   "cell_type": "markdown",
   "metadata": {},
   "source": [
    "Attribute Information:\n",
    "\n",
    "1. sepal length in cm \n",
    "2. sepal width in cm \n",
    "3. petal length in cm \n",
    "4. petal width in cm \n",
    "5. class: \n",
    "-- Iris Setosa \n",
    "-- Iris Versicolour \n",
    "-- Iris Virginica"
   ]
  },
  {
   "cell_type": "code",
   "execution_count": 3,
   "metadata": {
    "scrolled": true
   },
   "outputs": [
    {
     "data": {
      "text/html": [
       "<div>\n",
       "<style scoped>\n",
       "    .dataframe tbody tr th:only-of-type {\n",
       "        vertical-align: middle;\n",
       "    }\n",
       "\n",
       "    .dataframe tbody tr th {\n",
       "        vertical-align: top;\n",
       "    }\n",
       "\n",
       "    .dataframe thead th {\n",
       "        text-align: right;\n",
       "    }\n",
       "</style>\n",
       "<table border=\"1\" class=\"dataframe\">\n",
       "  <thead>\n",
       "    <tr style=\"text-align: right;\">\n",
       "      <th></th>\n",
       "      <th>0</th>\n",
       "      <th>1</th>\n",
       "      <th>2</th>\n",
       "      <th>3</th>\n",
       "      <th>4</th>\n",
       "    </tr>\n",
       "  </thead>\n",
       "  <tbody>\n",
       "    <tr>\n",
       "      <th>0</th>\n",
       "      <td>5.1</td>\n",
       "      <td>3.5</td>\n",
       "      <td>1.4</td>\n",
       "      <td>0.2</td>\n",
       "      <td>Iris-setosa</td>\n",
       "    </tr>\n",
       "    <tr>\n",
       "      <th>1</th>\n",
       "      <td>4.9</td>\n",
       "      <td>3.0</td>\n",
       "      <td>1.4</td>\n",
       "      <td>0.2</td>\n",
       "      <td>Iris-setosa</td>\n",
       "    </tr>\n",
       "    <tr>\n",
       "      <th>2</th>\n",
       "      <td>4.7</td>\n",
       "      <td>3.2</td>\n",
       "      <td>1.3</td>\n",
       "      <td>0.2</td>\n",
       "      <td>Iris-setosa</td>\n",
       "    </tr>\n",
       "    <tr>\n",
       "      <th>3</th>\n",
       "      <td>4.6</td>\n",
       "      <td>3.1</td>\n",
       "      <td>1.5</td>\n",
       "      <td>0.2</td>\n",
       "      <td>Iris-setosa</td>\n",
       "    </tr>\n",
       "    <tr>\n",
       "      <th>4</th>\n",
       "      <td>5.0</td>\n",
       "      <td>3.6</td>\n",
       "      <td>1.4</td>\n",
       "      <td>0.2</td>\n",
       "      <td>Iris-setosa</td>\n",
       "    </tr>\n",
       "  </tbody>\n",
       "</table>\n",
       "</div>"
      ],
      "text/plain": [
       "     0    1    2    3            4\n",
       "0  5.1  3.5  1.4  0.2  Iris-setosa\n",
       "1  4.9  3.0  1.4  0.2  Iris-setosa\n",
       "2  4.7  3.2  1.3  0.2  Iris-setosa\n",
       "3  4.6  3.1  1.5  0.2  Iris-setosa\n",
       "4  5.0  3.6  1.4  0.2  Iris-setosa"
      ]
     },
     "execution_count": 3,
     "metadata": {},
     "output_type": "execute_result"
    }
   ],
   "source": [
    "df.head()"
   ]
  },
  {
   "cell_type": "code",
   "execution_count": 9,
   "metadata": {},
   "outputs": [
    {
     "name": "stdout",
     "output_type": "stream",
     "text": [
      "<class 'pandas.core.frame.DataFrame'>\n",
      "RangeIndex: 150 entries, 0 to 149\n",
      "Data columns (total 5 columns):\n",
      " #   Column  Non-Null Count  Dtype  \n",
      "---  ------  --------------  -----  \n",
      " 0   0       150 non-null    float64\n",
      " 1   1       150 non-null    float64\n",
      " 2   2       150 non-null    float64\n",
      " 3   3       150 non-null    float64\n",
      " 4   4       150 non-null    object \n",
      "dtypes: float64(4), object(1)\n",
      "memory usage: 6.0+ KB\n"
     ]
    }
   ],
   "source": [
    "df.info()"
   ]
  },
  {
   "cell_type": "code",
   "execution_count": 6,
   "metadata": {
    "scrolled": true
   },
   "outputs": [
    {
     "data": {
      "text/html": [
       "<div>\n",
       "<style scoped>\n",
       "    .dataframe tbody tr th:only-of-type {\n",
       "        vertical-align: middle;\n",
       "    }\n",
       "\n",
       "    .dataframe tbody tr th {\n",
       "        vertical-align: top;\n",
       "    }\n",
       "\n",
       "    .dataframe thead th {\n",
       "        text-align: right;\n",
       "    }\n",
       "</style>\n",
       "<table border=\"1\" class=\"dataframe\">\n",
       "  <thead>\n",
       "    <tr style=\"text-align: right;\">\n",
       "      <th></th>\n",
       "      <th>0</th>\n",
       "      <th>1</th>\n",
       "      <th>2</th>\n",
       "      <th>3</th>\n",
       "    </tr>\n",
       "  </thead>\n",
       "  <tbody>\n",
       "    <tr>\n",
       "      <th>count</th>\n",
       "      <td>150.000000</td>\n",
       "      <td>150.000000</td>\n",
       "      <td>150.000000</td>\n",
       "      <td>150.000000</td>\n",
       "    </tr>\n",
       "    <tr>\n",
       "      <th>mean</th>\n",
       "      <td>5.843333</td>\n",
       "      <td>3.054000</td>\n",
       "      <td>3.758667</td>\n",
       "      <td>1.198667</td>\n",
       "    </tr>\n",
       "    <tr>\n",
       "      <th>std</th>\n",
       "      <td>0.828066</td>\n",
       "      <td>0.433594</td>\n",
       "      <td>1.764420</td>\n",
       "      <td>0.763161</td>\n",
       "    </tr>\n",
       "    <tr>\n",
       "      <th>min</th>\n",
       "      <td>4.300000</td>\n",
       "      <td>2.000000</td>\n",
       "      <td>1.000000</td>\n",
       "      <td>0.100000</td>\n",
       "    </tr>\n",
       "    <tr>\n",
       "      <th>25%</th>\n",
       "      <td>5.100000</td>\n",
       "      <td>2.800000</td>\n",
       "      <td>1.600000</td>\n",
       "      <td>0.300000</td>\n",
       "    </tr>\n",
       "    <tr>\n",
       "      <th>50%</th>\n",
       "      <td>5.800000</td>\n",
       "      <td>3.000000</td>\n",
       "      <td>4.350000</td>\n",
       "      <td>1.300000</td>\n",
       "    </tr>\n",
       "    <tr>\n",
       "      <th>75%</th>\n",
       "      <td>6.400000</td>\n",
       "      <td>3.300000</td>\n",
       "      <td>5.100000</td>\n",
       "      <td>1.800000</td>\n",
       "    </tr>\n",
       "    <tr>\n",
       "      <th>max</th>\n",
       "      <td>7.900000</td>\n",
       "      <td>4.400000</td>\n",
       "      <td>6.900000</td>\n",
       "      <td>2.500000</td>\n",
       "    </tr>\n",
       "  </tbody>\n",
       "</table>\n",
       "</div>"
      ],
      "text/plain": [
       "                0           1           2           3\n",
       "count  150.000000  150.000000  150.000000  150.000000\n",
       "mean     5.843333    3.054000    3.758667    1.198667\n",
       "std      0.828066    0.433594    1.764420    0.763161\n",
       "min      4.300000    2.000000    1.000000    0.100000\n",
       "25%      5.100000    2.800000    1.600000    0.300000\n",
       "50%      5.800000    3.000000    4.350000    1.300000\n",
       "75%      6.400000    3.300000    5.100000    1.800000\n",
       "max      7.900000    4.400000    6.900000    2.500000"
      ]
     },
     "execution_count": 6,
     "metadata": {},
     "output_type": "execute_result"
    }
   ],
   "source": [
    "df.describe()"
   ]
  },
  {
   "cell_type": "code",
   "execution_count": 5,
   "metadata": {},
   "outputs": [],
   "source": [
    "df.columns= ['sepal_length', 'sepal_width', 'petal_length', 'petal_width', 'species']"
   ]
  },
  {
   "cell_type": "code",
   "execution_count": 5,
   "metadata": {},
   "outputs": [
    {
     "data": {
      "text/html": [
       "<div>\n",
       "<style scoped>\n",
       "    .dataframe tbody tr th:only-of-type {\n",
       "        vertical-align: middle;\n",
       "    }\n",
       "\n",
       "    .dataframe tbody tr th {\n",
       "        vertical-align: top;\n",
       "    }\n",
       "\n",
       "    .dataframe thead th {\n",
       "        text-align: right;\n",
       "    }\n",
       "</style>\n",
       "<table border=\"1\" class=\"dataframe\">\n",
       "  <thead>\n",
       "    <tr style=\"text-align: right;\">\n",
       "      <th></th>\n",
       "      <th>sepal_length</th>\n",
       "      <th>sepal_width</th>\n",
       "      <th>petal_length</th>\n",
       "      <th>petal_width</th>\n",
       "      <th>species</th>\n",
       "    </tr>\n",
       "  </thead>\n",
       "  <tbody>\n",
       "    <tr>\n",
       "      <th>0</th>\n",
       "      <td>5.1</td>\n",
       "      <td>3.5</td>\n",
       "      <td>1.4</td>\n",
       "      <td>0.2</td>\n",
       "      <td>Iris-setosa</td>\n",
       "    </tr>\n",
       "    <tr>\n",
       "      <th>1</th>\n",
       "      <td>4.9</td>\n",
       "      <td>3.0</td>\n",
       "      <td>1.4</td>\n",
       "      <td>0.2</td>\n",
       "      <td>Iris-setosa</td>\n",
       "    </tr>\n",
       "    <tr>\n",
       "      <th>2</th>\n",
       "      <td>4.7</td>\n",
       "      <td>3.2</td>\n",
       "      <td>1.3</td>\n",
       "      <td>0.2</td>\n",
       "      <td>Iris-setosa</td>\n",
       "    </tr>\n",
       "    <tr>\n",
       "      <th>3</th>\n",
       "      <td>4.6</td>\n",
       "      <td>3.1</td>\n",
       "      <td>1.5</td>\n",
       "      <td>0.2</td>\n",
       "      <td>Iris-setosa</td>\n",
       "    </tr>\n",
       "    <tr>\n",
       "      <th>4</th>\n",
       "      <td>5.0</td>\n",
       "      <td>3.6</td>\n",
       "      <td>1.4</td>\n",
       "      <td>0.2</td>\n",
       "      <td>Iris-setosa</td>\n",
       "    </tr>\n",
       "  </tbody>\n",
       "</table>\n",
       "</div>"
      ],
      "text/plain": [
       "   sepal_length  sepal_width  petal_length  petal_width      species\n",
       "0           5.1          3.5           1.4          0.2  Iris-setosa\n",
       "1           4.9          3.0           1.4          0.2  Iris-setosa\n",
       "2           4.7          3.2           1.3          0.2  Iris-setosa\n",
       "3           4.6          3.1           1.5          0.2  Iris-setosa\n",
       "4           5.0          3.6           1.4          0.2  Iris-setosa"
      ]
     },
     "execution_count": 5,
     "metadata": {},
     "output_type": "execute_result"
    }
   ],
   "source": [
    "df.head()"
   ]
  },
  {
   "cell_type": "code",
   "execution_count": 18,
   "metadata": {},
   "outputs": [
    {
     "data": {
      "image/png": "[encoded data removed]",
      "text/plain": [
       "<Figure size 1296x612 with 1 Axes>"
      ]
     },
     "metadata": {
      "needs_background": "light"
     },
     "output_type": "display_data"
    }
   ],
   "source": [
    "fig,ax = plt.subplots()\n",
    "fig.set_size_inches(18, 8.5)\n",
    "legend_properties = {'weight':'bold', 'size':14 }\n",
    "for k,d in df.groupby('species'):\n",
    "    ax.scatter(d['petal_length'], d['sepal_length'], label=k)\n",
    "plt.legend(loc=2, prop=legend_properties)\n",
    "plt.xlabel('petal_length', fontweight='bold', fontsize=14)\n",
    "plt.ylabel('sepal_length', fontweight='bold', fontsize=14)\n",
    "plt.show()"
   ]
  },
  {
   "cell_type": "code",
   "execution_count": 38,
   "metadata": {},
   "outputs": [],
   "source": [
    "#dataset = df.values  # numpy.ndarray"
   ]
  },
  {
   "cell_type": "code",
   "execution_count": 39,
   "metadata": {},
   "outputs": [
    {
     "data": {
      "text/plain": [
       "array([[5.1, 3.5, 1.4, 0.2, 'Iris-setosa'],\n",
       "       [4.9, 3.0, 1.4, 0.2, 'Iris-setosa'],\n",
       "       [4.7, 3.2, 1.3, 0.2, 'Iris-setosa'],\n",
       "       [4.6, 3.1, 1.5, 0.2, 'Iris-setosa'],\n",
       "       [5.0, 3.6, 1.4, 0.2, 'Iris-setosa'],\n",
       "       [5.4, 3.9, 1.7, 0.4, 'Iris-setosa'],\n",
       "       [4.6, 3.4, 1.4, 0.3, 'Iris-setosa'],\n",
       "       [5.0, 3.4, 1.5, 0.2, 'Iris-setosa'],\n",
       "       [4.4, 2.9, 1.4, 0.2, 'Iris-setosa'],\n",
       "       [4.9, 3.1, 1.5, 0.1, 'Iris-setosa']], dtype=object)"
      ]
     },
     "execution_count": 39,
     "metadata": {},
     "output_type": "execute_result"
    }
   ],
   "source": [
    "dataset[0:10]"
   ]
  },
  {
   "cell_type": "markdown",
   "metadata": {},
   "source": [
    "# Test Train Split | Encode Output variable(y)"
   ]
  },
  {
   "attachments": {
    "Screenshot%202020-07-02%20at%2015.12.31.png": {
     "image/png": "[encoded data removed]"
    }
   },
   "cell_type": "markdown",
   "metadata": {},
   "source": [
    "![Screenshot%202020-07-02%20at%2015.12.31.png](attachment:Screenshot%202020-07-02%20at%2015.12.31.png)\n"
   ]
  },
  {
   "cell_type": "code",
   "execution_count": 6,
   "metadata": {},
   "outputs": [],
   "source": [
    "from sklearn.model_selection import train_test_split\n",
    "from sklearn.preprocessing import LabelEncoder\n",
    "from tensorflow.keras.utils import to_categorical,"
   ]
  },
  {
   "cell_type": "code",
   "execution_count": 41,
   "metadata": {},
   "outputs": [],
   "source": [
    "# X = dataset[:,0:4].astype(float)\n",
    "# y = dataset[:,4]"
   ]
  },
  {
   "cell_type": "code",
   "execution_count": 8,
   "metadata": {},
   "outputs": [],
   "source": [
    "X = df.drop(['species'], axis = 1)\n",
    "X = np.array(X)\n",
    "y = df['species']"
   ]
  },
  {
   "cell_type": "code",
   "execution_count": 9,
   "metadata": {},
   "outputs": [],
   "source": [
    "encoder = LabelEncoder()\n",
    "encoder.fit(y)\n",
    "y = encoder.transform(y)"
   ]
  },
  {
   "cell_type": "code",
   "execution_count": 10,
   "metadata": {},
   "outputs": [
    {
     "data": {
      "text/plain": [
       "array([0, 0, 0, 0, 0, 0, 0, 0, 0, 0, 0, 0, 0, 0, 0, 0, 0, 0, 0, 0, 0, 0,\n",
       "       0, 0, 0, 0, 0, 0, 0, 0, 0, 0, 0, 0, 0, 0, 0, 0, 0, 0, 0, 0, 0, 0,\n",
       "       0, 0, 0, 0, 0, 0, 1, 1, 1, 1, 1, 1, 1, 1, 1, 1, 1, 1, 1, 1, 1, 1,\n",
       "       1, 1, 1, 1, 1, 1, 1, 1, 1, 1, 1, 1, 1, 1, 1, 1, 1, 1, 1, 1, 1, 1,\n",
       "       1, 1, 1, 1, 1, 1, 1, 1, 1, 1, 1, 1, 2, 2, 2, 2, 2, 2, 2, 2, 2, 2,\n",
       "       2, 2, 2, 2, 2, 2, 2, 2, 2, 2, 2, 2, 2, 2, 2, 2, 2, 2, 2, 2, 2, 2,\n",
       "       2, 2, 2, 2, 2, 2, 2, 2, 2, 2, 2, 2, 2, 2, 2, 2, 2, 2])"
      ]
     },
     "execution_count": 10,
     "metadata": {},
     "output_type": "execute_result"
    }
   ],
   "source": [
    "y"
   ]
  },
  {
   "cell_type": "code",
   "execution_count": 20,
   "metadata": {},
   "outputs": [],
   "source": [
    "y = to_categorical(y)"
   ]
  },
  {
   "cell_type": "code",
   "execution_count": 132,
   "metadata": {},
   "outputs": [
    {
     "data": {
      "text/plain": [
       "array([[1., 0., 0.],\n",
       "       [1., 0., 0.],\n",
       "       [1., 0., 0.],\n",
       "       [1., 0., 0.],\n",
       "       [1., 0., 0.],\n",
       "       [1., 0., 0.],\n",
       "       [1., 0., 0.],\n",
       "       [1., 0., 0.],\n",
       "       [1., 0., 0.],\n",
       "       [1., 0., 0.],\n",
       "       [1., 0., 0.],\n",
       "       [1., 0., 0.],\n",
       "       [1., 0., 0.],\n",
       "       [1., 0., 0.],\n",
       "       [1., 0., 0.],\n",
       "       [1., 0., 0.],\n",
       "       [1., 0., 0.],\n",
       "       [1., 0., 0.],\n",
       "       [1., 0., 0.],\n",
       "       [1., 0., 0.],\n",
       "       [1., 0., 0.],\n",
       "       [1., 0., 0.],\n",
       "       [1., 0., 0.],\n",
       "       [1., 0., 0.],\n",
       "       [1., 0., 0.],\n",
       "       [1., 0., 0.],\n",
       "       [1., 0., 0.],\n",
       "       [1., 0., 0.],\n",
       "       [1., 0., 0.],\n",
       "       [1., 0., 0.],\n",
       "       [1., 0., 0.],\n",
       "       [1., 0., 0.],\n",
       "       [1., 0., 0.],\n",
       "       [1., 0., 0.],\n",
       "       [1., 0., 0.],\n",
       "       [1., 0., 0.],\n",
       "       [1., 0., 0.],\n",
       "       [1., 0., 0.],\n",
       "       [1., 0., 0.],\n",
       "       [1., 0., 0.],\n",
       "       [1., 0., 0.],\n",
       "       [1., 0., 0.],\n",
       "       [1., 0., 0.],\n",
       "       [1., 0., 0.],\n",
       "       [1., 0., 0.],\n",
       "       [1., 0., 0.],\n",
       "       [1., 0., 0.],\n",
       "       [1., 0., 0.],\n",
       "       [1., 0., 0.],\n",
       "       [1., 0., 0.],\n",
       "       [0., 1., 0.],\n",
       "       [0., 1., 0.],\n",
       "       [0., 1., 0.],\n",
       "       [0., 1., 0.],\n",
       "       [0., 1., 0.],\n",
       "       [0., 1., 0.],\n",
       "       [0., 1., 0.],\n",
       "       [0., 1., 0.],\n",
       "       [0., 1., 0.],\n",
       "       [0., 1., 0.],\n",
       "       [0., 1., 0.],\n",
       "       [0., 1., 0.],\n",
       "       [0., 1., 0.],\n",
       "       [0., 1., 0.],\n",
       "       [0., 1., 0.],\n",
       "       [0., 1., 0.],\n",
       "       [0., 1., 0.],\n",
       "       [0., 1., 0.],\n",
       "       [0., 1., 0.],\n",
       "       [0., 1., 0.],\n",
       "       [0., 1., 0.],\n",
       "       [0., 1., 0.],\n",
       "       [0., 1., 0.],\n",
       "       [0., 1., 0.],\n",
       "       [0., 1., 0.],\n",
       "       [0., 1., 0.],\n",
       "       [0., 1., 0.],\n",
       "       [0., 1., 0.],\n",
       "       [0., 1., 0.],\n",
       "       [0., 1., 0.],\n",
       "       [0., 1., 0.],\n",
       "       [0., 1., 0.],\n",
       "       [0., 1., 0.],\n",
       "       [0., 1., 0.],\n",
       "       [0., 1., 0.],\n",
       "       [0., 1., 0.],\n",
       "       [0., 1., 0.],\n",
       "       [0., 1., 0.],\n",
       "       [0., 1., 0.],\n",
       "       [0., 1., 0.],\n",
       "       [0., 1., 0.],\n",
       "       [0., 1., 0.],\n",
       "       [0., 1., 0.],\n",
       "       [0., 1., 0.],\n",
       "       [0., 1., 0.],\n",
       "       [0., 1., 0.],\n",
       "       [0., 1., 0.],\n",
       "       [0., 1., 0.],\n",
       "       [0., 1., 0.],\n",
       "       [0., 1., 0.],\n",
       "       [0., 0., 1.],\n",
       "       [0., 0., 1.],\n",
       "       [0., 0., 1.],\n",
       "       [0., 0., 1.],\n",
       "       [0., 0., 1.],\n",
       "       [0., 0., 1.],\n",
       "       [0., 0., 1.],\n",
       "       [0., 0., 1.],\n",
       "       [0., 0., 1.],\n",
       "       [0., 0., 1.],\n",
       "       [0., 0., 1.],\n",
       "       [0., 0., 1.],\n",
       "       [0., 0., 1.],\n",
       "       [0., 0., 1.],\n",
       "       [0., 0., 1.],\n",
       "       [0., 0., 1.],\n",
       "       [0., 0., 1.],\n",
       "       [0., 0., 1.],\n",
       "       [0., 0., 1.],\n",
       "       [0., 0., 1.],\n",
       "       [0., 0., 1.],\n",
       "       [0., 0., 1.],\n",
       "       [0., 0., 1.],\n",
       "       [0., 0., 1.],\n",
       "       [0., 0., 1.],\n",
       "       [0., 0., 1.],\n",
       "       [0., 0., 1.],\n",
       "       [0., 0., 1.],\n",
       "       [0., 0., 1.],\n",
       "       [0., 0., 1.],\n",
       "       [0., 0., 1.],\n",
       "       [0., 0., 1.],\n",
       "       [0., 0., 1.],\n",
       "       [0., 0., 1.],\n",
       "       [0., 0., 1.],\n",
       "       [0., 0., 1.],\n",
       "       [0., 0., 1.],\n",
       "       [0., 0., 1.],\n",
       "       [0., 0., 1.],\n",
       "       [0., 0., 1.],\n",
       "       [0., 0., 1.],\n",
       "       [0., 0., 1.],\n",
       "       [0., 0., 1.],\n",
       "       [0., 0., 1.],\n",
       "       [0., 0., 1.],\n",
       "       [0., 0., 1.],\n",
       "       [0., 0., 1.],\n",
       "       [0., 0., 1.],\n",
       "       [0., 0., 1.],\n",
       "       [0., 0., 1.]], dtype=float32)"
      ]
     },
     "execution_count": 132,
     "metadata": {},
     "output_type": "execute_result"
    }
   ],
   "source": []
  },
  {
   "cell_type": "code",
   "execution_count": 21,
   "metadata": {},
   "outputs": [],
   "source": [
    "X_train, X_test, y_train, y_test = train_test_split(X, y, test_size=0.25, random_state=42)"
   ]
  },
  {
   "cell_type": "markdown",
   "metadata": {},
   "source": [
    "### Define the Neural Network Model"
   ]
  },
  {
   "cell_type": "code",
   "execution_count": 22,
   "metadata": {},
   "outputs": [],
   "source": [
    "from sklearn.preprocessing import MinMaxScaler"
   ]
  },
  {
   "cell_type": "code",
   "execution_count": 23,
   "metadata": {},
   "outputs": [],
   "source": [
    "scaler = MinMaxScaler()"
   ]
  },
  {
   "attachments": {
    "Screenshot%202020-07-13%20at%2010.17.15.png": {
     "image/png": "[encoded data removed]"
    }
   },
   "cell_type": "markdown",
   "metadata": {},
   "source": [
    "![Screenshot%202020-07-13%20at%2010.17.15.png](attachment:Screenshot%202020-07-13%20at%2010.17.15.png)"
   ]
  },
  {
   "cell_type": "code",
   "execution_count": 24,
   "metadata": {},
   "outputs": [],
   "source": [
    "X_train = scaler.fit_transform(X_train)"
   ]
  },
  {
   "cell_type": "code",
   "execution_count": 25,
   "metadata": {},
   "outputs": [],
   "source": [
    "X_test = scaler.transform(X_test)"
   ]
  },
  {
   "cell_type": "code",
   "execution_count": 26,
   "metadata": {},
   "outputs": [],
   "source": [
    "from tensorflow.keras.models import Sequential\n",
    "from tensorflow.keras.layers import Dense"
   ]
  },
  {
   "cell_type": "code",
   "execution_count": 138,
   "metadata": {},
   "outputs": [
    {
     "data": {
      "text/plain": [
       "(112, 4)"
      ]
     },
     "execution_count": 138,
     "metadata": {},
     "output_type": "execute_result"
    }
   ],
   "source": [
    "X_train.shape"
   ]
  },
  {
   "cell_type": "code",
   "execution_count": 139,
   "metadata": {},
   "outputs": [
    {
     "data": {
      "text/plain": [
       "(38, 4)"
      ]
     },
     "execution_count": 139,
     "metadata": {},
     "output_type": "execute_result"
    }
   ],
   "source": [
    "X_test.shape"
   ]
  },
  {
   "cell_type": "code",
   "execution_count": 140,
   "metadata": {
    "scrolled": true
   },
   "outputs": [
    {
     "data": {
      "text/plain": [
       "(112, 3)"
      ]
     },
     "execution_count": 140,
     "metadata": {},
     "output_type": "execute_result"
    }
   ],
   "source": [
    "y_train.shape"
   ]
  },
  {
   "cell_type": "code",
   "execution_count": 141,
   "metadata": {},
   "outputs": [
    {
     "data": {
      "text/plain": [
       "(38, 3)"
      ]
     },
     "execution_count": 141,
     "metadata": {},
     "output_type": "execute_result"
    }
   ],
   "source": [
    "y_test.shape"
   ]
  },
  {
   "attachments": {
    "image.png": {
     "image/png": "[encoded data removed]"
    }
   },
   "cell_type": "markdown",
   "metadata": {},
   "source": [
    "![image.png](attachment:image.png)"
   ]
  },
  {
   "cell_type": "code",
   "execution_count": 43,
   "metadata": {},
   "outputs": [],
   "source": [
    "model = Sequential()\n",
    "model.add(Dense(8, input_dim=4, activation='relu'))\n",
    "model.add(Dense(3, activation='softmax'))\n",
    "# Compile model\n",
    "model.compile(loss='categorical_crossentropy', optimizer='adam', metrics=['accuracy'])"
   ]
  },
  {
   "cell_type": "markdown",
   "metadata": {},
   "source": [
    "input_dim is the number of dimensions of the features, in your case that is just 4. The equivalent notation for input_shape, which is an actual dimensional shape, is (4,)"
   ]
  },
  {
   "cell_type": "markdown",
   "metadata": {},
   "source": [
    "The Softmax regression is a form of logistic regression that normalizes an input value into a vector of values that follows a probability distribution whose total sums up to 1. The output values are between the range [0,1] which is nice because we are able to avoid binary classification and accommodate as many classes or dimensions in our neural network model. This is why softmax is sometimes referred to as a multinomial logistic regression."
   ]
  },
  {
   "cell_type": "code",
   "execution_count": 44,
   "metadata": {},
   "outputs": [
    {
     "name": "stdout",
     "output_type": "stream",
     "text": [
      "Epoch 1/200\n",
      "23/23 [==============================] - 0s 6ms/step - loss: 1.0495 - accuracy: 0.2946 - val_loss: 1.0145 - val_accuracy: 0.3947\n",
      "Epoch 2/200\n",
      "23/23 [==============================] - 0s 3ms/step - loss: 0.9962 - accuracy: 0.3750 - val_loss: 0.9721 - val_accuracy: 0.4211\n",
      "Epoch 3/200\n",
      "23/23 [==============================] - 0s 3ms/step - loss: 0.9549 - accuracy: 0.4821 - val_loss: 0.9368 - val_accuracy: 0.5789\n",
      "Epoch 4/200\n",
      "23/23 [==============================] - 0s 3ms/step - loss: 0.9209 - accuracy: 0.6071 - val_loss: 0.9037 - val_accuracy: 0.6579\n",
      "Epoch 5/200\n",
      "23/23 [==============================] - 0s 3ms/step - loss: 0.8907 - accuracy: 0.6250 - val_loss: 0.8730 - val_accuracy: 0.6842\n",
      "Epoch 6/200\n",
      "23/23 [==============================] - 0s 3ms/step - loss: 0.8634 - accuracy: 0.6429 - val_loss: 0.8437 - val_accuracy: 0.7105\n",
      "Epoch 7/200\n",
      "23/23 [==============================] - 0s 3ms/step - loss: 0.8399 - accuracy: 0.6518 - val_loss: 0.8151 - val_accuracy: 0.7105\n",
      "Epoch 8/200\n",
      "23/23 [==============================] - 0s 3ms/step - loss: 0.8175 - accuracy: 0.6518 - val_loss: 0.7933 - val_accuracy: 0.7105\n",
      "Epoch 9/200\n",
      "23/23 [==============================] - 0s 3ms/step - loss: 0.7949 - accuracy: 0.6518 - val_loss: 0.7692 - val_accuracy: 0.7105\n",
      "Epoch 10/200\n",
      "23/23 [==============================] - 0s 3ms/step - loss: 0.7753 - accuracy: 0.6518 - val_loss: 0.7475 - val_accuracy: 0.7105\n",
      "Epoch 11/200\n",
      "23/23 [==============================] - 0s 3ms/step - loss: 0.7566 - accuracy: 0.6518 - val_loss: 0.7254 - val_accuracy: 0.7105\n",
      "Epoch 12/200\n",
      "23/23 [==============================] - 0s 3ms/step - loss: 0.7386 - accuracy: 0.6518 - val_loss: 0.7055 - val_accuracy: 0.7105\n",
      "Epoch 13/200\n",
      "23/23 [==============================] - 0s 3ms/step - loss: 0.7208 - accuracy: 0.6518 - val_loss: 0.6880 - val_accuracy: 0.7105\n",
      "Epoch 14/200\n",
      "23/23 [==============================] - 0s 3ms/step - loss: 0.7047 - accuracy: 0.6518 - val_loss: 0.6706 - val_accuracy: 0.7105\n",
      "Epoch 15/200\n",
      "23/23 [==============================] - 0s 3ms/step - loss: 0.6891 - accuracy: 0.6518 - val_loss: 0.6534 - val_accuracy: 0.7105\n",
      "Epoch 16/200\n",
      "23/23 [==============================] - 0s 3ms/step - loss: 0.6737 - accuracy: 0.6518 - val_loss: 0.6375 - val_accuracy: 0.7105\n",
      "Epoch 17/200\n",
      "23/23 [==============================] - 0s 3ms/step - loss: 0.6603 - accuracy: 0.6607 - val_loss: 0.6213 - val_accuracy: 0.7105\n",
      "Epoch 18/200\n",
      "23/23 [==============================] - 0s 3ms/step - loss: 0.6465 - accuracy: 0.6607 - val_loss: 0.6070 - val_accuracy: 0.7105\n",
      "Epoch 19/200\n",
      "23/23 [==============================] - 0s 4ms/step - loss: 0.6348 - accuracy: 0.6607 - val_loss: 0.5938 - val_accuracy: 0.7105\n",
      "Epoch 20/200\n",
      "23/23 [==============================] - 0s 3ms/step - loss: 0.6226 - accuracy: 0.6607 - val_loss: 0.5816 - val_accuracy: 0.7105\n",
      "Epoch 21/200\n",
      "23/23 [==============================] - 0s 5ms/step - loss: 0.6123 - accuracy: 0.6607 - val_loss: 0.5688 - val_accuracy: 0.7368\n",
      "Epoch 22/200\n",
      "23/23 [==============================] - 0s 3ms/step - loss: 0.6012 - accuracy: 0.6607 - val_loss: 0.5571 - val_accuracy: 0.7368\n",
      "Epoch 23/200\n",
      "23/23 [==============================] - 0s 3ms/step - loss: 0.5910 - accuracy: 0.6607 - val_loss: 0.5463 - val_accuracy: 0.7368\n",
      "Epoch 24/200\n",
      "23/23 [==============================] - 0s 2ms/step - loss: 0.5827 - accuracy: 0.6607 - val_loss: 0.5359 - val_accuracy: 0.7368\n",
      "Epoch 25/200\n",
      "23/23 [==============================] - 0s 3ms/step - loss: 0.5724 - accuracy: 0.6875 - val_loss: 0.5262 - val_accuracy: 0.7368\n",
      "Epoch 26/200\n",
      "23/23 [==============================] - 0s 2ms/step - loss: 0.5644 - accuracy: 0.7054 - val_loss: 0.5178 - val_accuracy: 0.7368\n",
      "Epoch 27/200\n",
      "23/23 [==============================] - 0s 2ms/step - loss: 0.5557 - accuracy: 0.7143 - val_loss: 0.5090 - val_accuracy: 0.7368\n",
      "Epoch 28/200\n",
      "23/23 [==============================] - 0s 3ms/step - loss: 0.5480 - accuracy: 0.7143 - val_loss: 0.5001 - val_accuracy: 0.7368\n",
      "Epoch 29/200\n",
      "23/23 [==============================] - 0s 2ms/step - loss: 0.5401 - accuracy: 0.7143 - val_loss: 0.4923 - val_accuracy: 0.7368\n",
      "Epoch 30/200\n",
      "23/23 [==============================] - 0s 3ms/step - loss: 0.5339 - accuracy: 0.7232 - val_loss: 0.4840 - val_accuracy: 0.7368\n",
      "Epoch 31/200\n",
      "23/23 [==============================] - 0s 2ms/step - loss: 0.5269 - accuracy: 0.7679 - val_loss: 0.4771 - val_accuracy: 0.8158\n",
      "Epoch 32/200\n",
      "23/23 [==============================] - 0s 3ms/step - loss: 0.5193 - accuracy: 0.7589 - val_loss: 0.4702 - val_accuracy: 0.8158\n",
      "Epoch 33/200\n",
      "23/23 [==============================] - 0s 3ms/step - loss: 0.5129 - accuracy: 0.7679 - val_loss: 0.4629 - val_accuracy: 0.8158\n",
      "Epoch 34/200\n",
      "23/23 [==============================] - 0s 2ms/step - loss: 0.5066 - accuracy: 0.7768 - val_loss: 0.4563 - val_accuracy: 0.8158\n",
      "Epoch 35/200\n",
      "23/23 [==============================] - 0s 2ms/step - loss: 0.5009 - accuracy: 0.7589 - val_loss: 0.4504 - val_accuracy: 0.8158\n",
      "Epoch 36/200\n",
      "23/23 [==============================] - 0s 3ms/step - loss: 0.4956 - accuracy: 0.8214 - val_loss: 0.4441 - val_accuracy: 0.8684\n",
      "Epoch 37/200\n",
      "23/23 [==============================] - 0s 4ms/step - loss: 0.4898 - accuracy: 0.8393 - val_loss: 0.4389 - val_accuracy: 0.8684\n",
      "Epoch 38/200\n",
      "23/23 [==============================] - 0s 3ms/step - loss: 0.4855 - accuracy: 0.8750 - val_loss: 0.4344 - val_accuracy: 0.8684\n",
      "Epoch 39/200\n",
      "23/23 [==============================] - 0s 3ms/step - loss: 0.4799 - accuracy: 0.9107 - val_loss: 0.4295 - val_accuracy: 0.8684\n",
      "Epoch 40/200\n",
      "23/23 [==============================] - 0s 3ms/step - loss: 0.4746 - accuracy: 0.8750 - val_loss: 0.4238 - val_accuracy: 0.8684\n",
      "Epoch 41/200\n",
      "23/23 [==============================] - 0s 3ms/step - loss: 0.4699 - accuracy: 0.8393 - val_loss: 0.4186 - val_accuracy: 0.8684\n",
      "Epoch 42/200\n",
      "23/23 [==============================] - 0s 3ms/step - loss: 0.4650 - accuracy: 0.8393 - val_loss: 0.4142 - val_accuracy: 0.8684\n",
      "Epoch 43/200\n",
      "23/23 [==============================] - 0s 3ms/step - loss: 0.4606 - accuracy: 0.8393 - val_loss: 0.4089 - val_accuracy: 0.8684\n",
      "Epoch 44/200\n",
      "23/23 [==============================] - 0s 2ms/step - loss: 0.4560 - accuracy: 0.8393 - val_loss: 0.4046 - val_accuracy: 0.8684\n",
      "Epoch 45/200\n",
      "23/23 [==============================] - 0s 2ms/step - loss: 0.4529 - accuracy: 0.9018 - val_loss: 0.4007 - val_accuracy: 0.8947\n",
      "Epoch 46/200\n",
      "23/23 [==============================] - 0s 3ms/step - loss: 0.4475 - accuracy: 0.9196 - val_loss: 0.3964 - val_accuracy: 0.9211\n",
      "Epoch 47/200\n",
      "23/23 [==============================] - 0s 3ms/step - loss: 0.4436 - accuracy: 0.9196 - val_loss: 0.3923 - val_accuracy: 0.9211\n",
      "Epoch 48/200\n",
      "23/23 [==============================] - 0s 3ms/step - loss: 0.4390 - accuracy: 0.9107 - val_loss: 0.3878 - val_accuracy: 0.8684\n",
      "Epoch 49/200\n",
      "23/23 [==============================] - 0s 3ms/step - loss: 0.4364 - accuracy: 0.9107 - val_loss: 0.3841 - val_accuracy: 0.9211\n",
      "Epoch 50/200\n",
      "23/23 [==============================] - 0s 3ms/step - loss: 0.4337 - accuracy: 0.8482 - val_loss: 0.3801 - val_accuracy: 0.8684\n",
      "Epoch 51/200\n",
      "23/23 [==============================] - 0s 3ms/step - loss: 0.4278 - accuracy: 0.8839 - val_loss: 0.3762 - val_accuracy: 0.8947\n",
      "Epoch 52/200\n",
      "23/23 [==============================] - 0s 2ms/step - loss: 0.4239 - accuracy: 0.9196 - val_loss: 0.3727 - val_accuracy: 0.9211\n",
      "Epoch 53/200\n",
      "23/23 [==============================] - 0s 3ms/step - loss: 0.4204 - accuracy: 0.9286 - val_loss: 0.3696 - val_accuracy: 0.9474\n",
      "Epoch 54/200\n",
      "23/23 [==============================] - 0s 4ms/step - loss: 0.4166 - accuracy: 0.9286 - val_loss: 0.3657 - val_accuracy: 0.9474\n",
      "Epoch 55/200\n",
      "23/23 [==============================] - 0s 3ms/step - loss: 0.4128 - accuracy: 0.9375 - val_loss: 0.3622 - val_accuracy: 0.9474\n",
      "Epoch 56/200\n",
      "23/23 [==============================] - 0s 3ms/step - loss: 0.4091 - accuracy: 0.9286 - val_loss: 0.3594 - val_accuracy: 0.9211\n",
      "Epoch 57/200\n",
      "23/23 [==============================] - 0s 3ms/step - loss: 0.4058 - accuracy: 0.9286 - val_loss: 0.3557 - val_accuracy: 0.9211\n",
      "Epoch 58/200\n",
      "23/23 [==============================] - 0s 3ms/step - loss: 0.4049 - accuracy: 0.9286 - val_loss: 0.3526 - val_accuracy: 0.9211\n"
     ]
    },
    {
     "name": "stdout",
     "output_type": "stream",
     "text": [
      "Epoch 59/200\n",
      "23/23 [==============================] - 0s 3ms/step - loss: 0.3990 - accuracy: 0.9286 - val_loss: 0.3491 - val_accuracy: 0.9474\n",
      "Epoch 60/200\n",
      "23/23 [==============================] - 0s 3ms/step - loss: 0.3961 - accuracy: 0.9375 - val_loss: 0.3462 - val_accuracy: 0.9474\n",
      "Epoch 61/200\n",
      "23/23 [==============================] - 0s 3ms/step - loss: 0.3921 - accuracy: 0.9464 - val_loss: 0.3430 - val_accuracy: 0.9474\n",
      "Epoch 62/200\n",
      "23/23 [==============================] - 0s 3ms/step - loss: 0.3890 - accuracy: 0.9464 - val_loss: 0.3398 - val_accuracy: 0.9474\n",
      "Epoch 63/200\n",
      "23/23 [==============================] - 0s 2ms/step - loss: 0.3865 - accuracy: 0.9375 - val_loss: 0.3368 - val_accuracy: 0.9474\n",
      "Epoch 64/200\n",
      "23/23 [==============================] - 0s 4ms/step - loss: 0.3828 - accuracy: 0.9464 - val_loss: 0.3335 - val_accuracy: 0.9474\n",
      "Epoch 65/200\n",
      "23/23 [==============================] - 0s 3ms/step - loss: 0.3796 - accuracy: 0.9464 - val_loss: 0.3306 - val_accuracy: 0.9474\n",
      "Epoch 66/200\n",
      "23/23 [==============================] - 0s 3ms/step - loss: 0.3760 - accuracy: 0.9464 - val_loss: 0.3275 - val_accuracy: 0.9474\n",
      "Epoch 67/200\n",
      "23/23 [==============================] - 0s 3ms/step - loss: 0.3742 - accuracy: 0.9464 - val_loss: 0.3248 - val_accuracy: 0.9474\n",
      "Epoch 68/200\n",
      "23/23 [==============================] - 0s 3ms/step - loss: 0.3711 - accuracy: 0.9464 - val_loss: 0.3223 - val_accuracy: 0.9474\n",
      "Epoch 69/200\n",
      "23/23 [==============================] - 0s 3ms/step - loss: 0.3671 - accuracy: 0.9464 - val_loss: 0.3191 - val_accuracy: 0.9474\n",
      "Epoch 70/200\n",
      "23/23 [==============================] - 0s 3ms/step - loss: 0.3637 - accuracy: 0.9464 - val_loss: 0.3164 - val_accuracy: 0.9474\n",
      "Epoch 71/200\n",
      "23/23 [==============================] - 0s 3ms/step - loss: 0.3615 - accuracy: 0.9464 - val_loss: 0.3135 - val_accuracy: 0.9474\n",
      "Epoch 72/200\n",
      "23/23 [==============================] - 0s 3ms/step - loss: 0.3573 - accuracy: 0.9464 - val_loss: 0.3108 - val_accuracy: 0.9474\n",
      "Epoch 73/200\n",
      "23/23 [==============================] - 0s 3ms/step - loss: 0.3547 - accuracy: 0.9464 - val_loss: 0.3080 - val_accuracy: 0.9474\n",
      "Epoch 74/200\n",
      "23/23 [==============================] - 0s 3ms/step - loss: 0.3521 - accuracy: 0.9464 - val_loss: 0.3051 - val_accuracy: 0.9474\n",
      "Epoch 75/200\n",
      "23/23 [==============================] - 0s 4ms/step - loss: 0.3487 - accuracy: 0.9464 - val_loss: 0.3024 - val_accuracy: 0.9737\n",
      "Epoch 76/200\n",
      "23/23 [==============================] - 0s 3ms/step - loss: 0.3454 - accuracy: 0.9643 - val_loss: 0.2993 - val_accuracy: 0.9474\n",
      "Epoch 77/200\n",
      "23/23 [==============================] - 0s 3ms/step - loss: 0.3440 - accuracy: 0.9464 - val_loss: 0.2972 - val_accuracy: 0.9474\n",
      "Epoch 78/200\n",
      "23/23 [==============================] - 0s 3ms/step - loss: 0.3397 - accuracy: 0.9464 - val_loss: 0.2942 - val_accuracy: 0.9474\n",
      "Epoch 79/200\n",
      "23/23 [==============================] - 0s 3ms/step - loss: 0.3363 - accuracy: 0.9464 - val_loss: 0.2916 - val_accuracy: 0.9474\n",
      "Epoch 80/200\n",
      "23/23 [==============================] - 0s 3ms/step - loss: 0.3334 - accuracy: 0.9643 - val_loss: 0.2887 - val_accuracy: 0.9474\n",
      "Epoch 81/200\n",
      "23/23 [==============================] - 0s 3ms/step - loss: 0.3308 - accuracy: 0.9464 - val_loss: 0.2860 - val_accuracy: 0.9474\n",
      "Epoch 82/200\n",
      "23/23 [==============================] - 0s 3ms/step - loss: 0.3276 - accuracy: 0.9732 - val_loss: 0.2835 - val_accuracy: 0.9737\n",
      "Epoch 83/200\n",
      "23/23 [==============================] - 0s 3ms/step - loss: 0.3251 - accuracy: 0.9732 - val_loss: 0.2808 - val_accuracy: 0.9737\n",
      "Epoch 84/200\n",
      "23/23 [==============================] - 0s 3ms/step - loss: 0.3223 - accuracy: 0.9732 - val_loss: 0.2782 - val_accuracy: 0.9737\n",
      "Epoch 85/200\n",
      "23/23 [==============================] - 0s 3ms/step - loss: 0.3195 - accuracy: 0.9732 - val_loss: 0.2756 - val_accuracy: 0.9737\n",
      "Epoch 86/200\n",
      "23/23 [==============================] - 0s 3ms/step - loss: 0.3166 - accuracy: 0.9732 - val_loss: 0.2729 - val_accuracy: 0.9737\n",
      "Epoch 87/200\n",
      "23/23 [==============================] - 0s 3ms/step - loss: 0.3137 - accuracy: 0.9732 - val_loss: 0.2702 - val_accuracy: 0.9737\n",
      "Epoch 88/200\n",
      "23/23 [==============================] - 0s 3ms/step - loss: 0.3109 - accuracy: 0.9554 - val_loss: 0.2687 - val_accuracy: 0.9474\n",
      "Epoch 89/200\n",
      "23/23 [==============================] - 0s 2ms/step - loss: 0.3086 - accuracy: 0.9643 - val_loss: 0.2655 - val_accuracy: 0.9737\n",
      "Epoch 90/200\n",
      "23/23 [==============================] - 0s 3ms/step - loss: 0.3067 - accuracy: 0.9732 - val_loss: 0.2628 - val_accuracy: 0.9737\n",
      "Epoch 91/200\n",
      "23/23 [==============================] - 0s 3ms/step - loss: 0.3027 - accuracy: 0.9732 - val_loss: 0.2607 - val_accuracy: 0.9474\n",
      "Epoch 92/200\n",
      "23/23 [==============================] - 0s 3ms/step - loss: 0.3000 - accuracy: 0.9643 - val_loss: 0.2583 - val_accuracy: 0.9474\n",
      "Epoch 93/200\n",
      "23/23 [==============================] - 0s 3ms/step - loss: 0.2977 - accuracy: 0.9643 - val_loss: 0.2554 - val_accuracy: 0.9737\n",
      "Epoch 94/200\n",
      "23/23 [==============================] - 0s 4ms/step - loss: 0.2984 - accuracy: 0.9732 - val_loss: 0.2530 - val_accuracy: 0.9737\n",
      "Epoch 95/200\n",
      "23/23 [==============================] - 0s 3ms/step - loss: 0.2928 - accuracy: 0.9732 - val_loss: 0.2512 - val_accuracy: 0.9737\n",
      "Epoch 96/200\n",
      "23/23 [==============================] - 0s 2ms/step - loss: 0.2910 - accuracy: 0.9732 - val_loss: 0.2482 - val_accuracy: 0.9737\n",
      "Epoch 97/200\n",
      "23/23 [==============================] - 0s 2ms/step - loss: 0.2876 - accuracy: 0.9732 - val_loss: 0.2464 - val_accuracy: 0.9737\n",
      "Epoch 98/200\n",
      "23/23 [==============================] - 0s 3ms/step - loss: 0.2863 - accuracy: 0.9732 - val_loss: 0.2436 - val_accuracy: 0.9737\n",
      "Epoch 99/200\n",
      "23/23 [==============================] - 0s 3ms/step - loss: 0.2822 - accuracy: 0.9732 - val_loss: 0.2416 - val_accuracy: 0.9737\n",
      "Epoch 100/200\n",
      "23/23 [==============================] - 0s 3ms/step - loss: 0.2796 - accuracy: 0.9732 - val_loss: 0.2395 - val_accuracy: 0.9737\n",
      "Epoch 101/200\n",
      "23/23 [==============================] - 0s 2ms/step - loss: 0.2772 - accuracy: 0.9732 - val_loss: 0.2370 - val_accuracy: 0.9737\n",
      "Epoch 102/200\n",
      "23/23 [==============================] - 0s 3ms/step - loss: 0.2747 - accuracy: 0.9732 - val_loss: 0.2348 - val_accuracy: 0.9737\n",
      "Epoch 103/200\n",
      "23/23 [==============================] - 0s 3ms/step - loss: 0.2727 - accuracy: 0.9732 - val_loss: 0.2325 - val_accuracy: 0.9737\n",
      "Epoch 104/200\n",
      "23/23 [==============================] - 0s 3ms/step - loss: 0.2727 - accuracy: 0.9732 - val_loss: 0.2303 - val_accuracy: 0.9737\n",
      "Epoch 105/200\n",
      "23/23 [==============================] - 0s 3ms/step - loss: 0.2664 - accuracy: 0.9732 - val_loss: 0.2286 - val_accuracy: 0.9737\n",
      "Epoch 106/200\n",
      "23/23 [==============================] - 0s 2ms/step - loss: 0.2665 - accuracy: 0.9732 - val_loss: 0.2264 - val_accuracy: 0.9737\n",
      "Epoch 107/200\n",
      "23/23 [==============================] - 0s 4ms/step - loss: 0.2635 - accuracy: 0.9732 - val_loss: 0.2247 - val_accuracy: 0.9737\n",
      "Epoch 108/200\n",
      "23/23 [==============================] - 0s 3ms/step - loss: 0.2615 - accuracy: 0.9732 - val_loss: 0.2219 - val_accuracy: 0.9737\n",
      "Epoch 109/200\n",
      "23/23 [==============================] - 0s 3ms/step - loss: 0.2594 - accuracy: 0.9732 - val_loss: 0.2199 - val_accuracy: 0.9737\n",
      "Epoch 110/200\n",
      "23/23 [==============================] - 0s 3ms/step - loss: 0.2565 - accuracy: 0.9732 - val_loss: 0.2181 - val_accuracy: 0.9737\n",
      "Epoch 111/200\n",
      "23/23 [==============================] - 0s 3ms/step - loss: 0.2541 - accuracy: 0.9732 - val_loss: 0.2168 - val_accuracy: 0.9737\n",
      "Epoch 112/200\n",
      "23/23 [==============================] - 0s 3ms/step - loss: 0.2521 - accuracy: 0.9732 - val_loss: 0.2140 - val_accuracy: 0.9737\n",
      "Epoch 113/200\n",
      "23/23 [==============================] - 0s 3ms/step - loss: 0.2501 - accuracy: 0.9732 - val_loss: 0.2123 - val_accuracy: 0.9737\n",
      "Epoch 114/200\n",
      "23/23 [==============================] - 0s 2ms/step - loss: 0.2472 - accuracy: 0.9732 - val_loss: 0.2096 - val_accuracy: 0.9737\n",
      "Epoch 115/200\n",
      "23/23 [==============================] - 0s 3ms/step - loss: 0.2458 - accuracy: 0.9732 - val_loss: 0.2077 - val_accuracy: 0.9737\n",
      "Epoch 116/200\n",
      "23/23 [==============================] - 0s 2ms/step - loss: 0.2434 - accuracy: 0.9732 - val_loss: 0.2059 - val_accuracy: 0.9737\n",
      "Epoch 117/200\n",
      "23/23 [==============================] - 0s 3ms/step - loss: 0.2419 - accuracy: 0.9732 - val_loss: 0.2040 - val_accuracy: 0.9737\n",
      "Epoch 118/200\n",
      "23/23 [==============================] - 0s 3ms/step - loss: 0.2400 - accuracy: 0.9732 - val_loss: 0.2040 - val_accuracy: 0.9737\n",
      "Epoch 119/200\n",
      "23/23 [==============================] - 0s 4ms/step - loss: 0.2378 - accuracy: 0.9732 - val_loss: 0.2009 - val_accuracy: 0.9737\n",
      "Epoch 120/200\n",
      "23/23 [==============================] - 0s 7ms/step - loss: 0.2368 - accuracy: 0.9732 - val_loss: 0.1983 - val_accuracy: 0.9737\n",
      "Epoch 121/200\n",
      "23/23 [==============================] - 0s 3ms/step - loss: 0.2333 - accuracy: 0.9732 - val_loss: 0.1972 - val_accuracy: 0.9737\n",
      "Epoch 122/200\n",
      "23/23 [==============================] - 0s 3ms/step - loss: 0.2334 - accuracy: 0.9732 - val_loss: 0.1969 - val_accuracy: 0.9737\n",
      "Epoch 123/200\n",
      "23/23 [==============================] - 0s 2ms/step - loss: 0.2303 - accuracy: 0.9732 - val_loss: 0.1930 - val_accuracy: 0.9737\n",
      "Epoch 124/200\n",
      "23/23 [==============================] - 0s 2ms/step - loss: 0.2282 - accuracy: 0.9732 - val_loss: 0.1912 - val_accuracy: 0.9737\n",
      "Epoch 125/200\n",
      "23/23 [==============================] - 0s 2ms/step - loss: 0.2258 - accuracy: 0.9732 - val_loss: 0.1895 - val_accuracy: 0.9737\n",
      "Epoch 126/200\n",
      "23/23 [==============================] - 0s 2ms/step - loss: 0.2238 - accuracy: 0.9732 - val_loss: 0.1883 - val_accuracy: 0.9737\n",
      "Epoch 127/200\n",
      "23/23 [==============================] - 0s 3ms/step - loss: 0.2225 - accuracy: 0.9732 - val_loss: 0.1863 - val_accuracy: 0.9737\n",
      "Epoch 128/200\n",
      "23/23 [==============================] - 0s 3ms/step - loss: 0.2207 - accuracy: 0.9732 - val_loss: 0.1856 - val_accuracy: 0.9737\n",
      "Epoch 129/200\n",
      "23/23 [==============================] - 0s 2ms/step - loss: 0.2192 - accuracy: 0.9732 - val_loss: 0.1829 - val_accuracy: 0.9737\n",
      "Epoch 130/200\n",
      "23/23 [==============================] - 0s 2ms/step - loss: 0.2182 - accuracy: 0.9732 - val_loss: 0.1811 - val_accuracy: 0.9737\n",
      "Epoch 131/200\n",
      "23/23 [==============================] - 0s 3ms/step - loss: 0.2158 - accuracy: 0.9732 - val_loss: 0.1798 - val_accuracy: 0.9737\n",
      "Epoch 132/200\n",
      "23/23 [==============================] - 0s 3ms/step - loss: 0.2132 - accuracy: 0.9732 - val_loss: 0.1782 - val_accuracy: 0.9737\n",
      "Epoch 133/200\n",
      "23/23 [==============================] - 0s 3ms/step - loss: 0.2124 - accuracy: 0.9732 - val_loss: 0.1766 - val_accuracy: 0.9737\n",
      "Epoch 134/200\n",
      "23/23 [==============================] - 0s 3ms/step - loss: 0.2101 - accuracy: 0.9732 - val_loss: 0.1756 - val_accuracy: 0.9737\n",
      "Epoch 135/200\n",
      "23/23 [==============================] - 0s 2ms/step - loss: 0.2084 - accuracy: 0.9732 - val_loss: 0.1738 - val_accuracy: 0.9737\n",
      "Epoch 136/200\n",
      "23/23 [==============================] - 0s 2ms/step - loss: 0.2067 - accuracy: 0.9732 - val_loss: 0.1719 - val_accuracy: 0.9737\n",
      "Epoch 137/200\n",
      "23/23 [==============================] - 0s 2ms/step - loss: 0.2059 - accuracy: 0.9732 - val_loss: 0.1709 - val_accuracy: 0.9737\n",
      "Epoch 138/200\n",
      "23/23 [==============================] - 0s 3ms/step - loss: 0.2047 - accuracy: 0.9732 - val_loss: 0.1690 - val_accuracy: 0.9737\n",
      "Epoch 139/200\n",
      "23/23 [==============================] - 0s 2ms/step - loss: 0.2026 - accuracy: 0.9732 - val_loss: 0.1693 - val_accuracy: 0.9737\n",
      "Epoch 140/200\n",
      "23/23 [==============================] - 0s 2ms/step - loss: 0.2008 - accuracy: 0.9732 - val_loss: 0.1669 - val_accuracy: 0.9737\n",
      "Epoch 141/200\n",
      "23/23 [==============================] - 0s 2ms/step - loss: 0.2007 - accuracy: 0.9732 - val_loss: 0.1653 - val_accuracy: 0.9737\n",
      "Epoch 142/200\n",
      "23/23 [==============================] - 0s 7ms/step - loss: 0.2002 - accuracy: 0.9643 - val_loss: 0.1630 - val_accuracy: 0.9737\n",
      "Epoch 143/200\n",
      "23/23 [==============================] - 0s 2ms/step - loss: 0.1965 - accuracy: 0.9732 - val_loss: 0.1625 - val_accuracy: 0.9737\n",
      "Epoch 144/200\n",
      "23/23 [==============================] - 0s 2ms/step - loss: 0.1959 - accuracy: 0.9732 - val_loss: 0.1607 - val_accuracy: 0.9737\n",
      "Epoch 145/200\n",
      "23/23 [==============================] - 0s 2ms/step - loss: 0.1943 - accuracy: 0.9732 - val_loss: 0.1613 - val_accuracy: 0.9737\n",
      "Epoch 146/200\n",
      "23/23 [==============================] - 0s 2ms/step - loss: 0.1917 - accuracy: 0.9732 - val_loss: 0.1579 - val_accuracy: 0.9737\n",
      "Epoch 147/200\n",
      "23/23 [==============================] - 0s 2ms/step - loss: 0.1912 - accuracy: 0.9732 - val_loss: 0.1564 - val_accuracy: 0.9737\n",
      "Epoch 148/200\n",
      "23/23 [==============================] - 0s 3ms/step - loss: 0.1891 - accuracy: 0.9732 - val_loss: 0.1556 - val_accuracy: 0.9737\n",
      "Epoch 149/200\n",
      "23/23 [==============================] - 0s 3ms/step - loss: 0.1880 - accuracy: 0.9732 - val_loss: 0.1542 - val_accuracy: 0.9737\n",
      "Epoch 150/200\n",
      "23/23 [==============================] - 0s 3ms/step - loss: 0.1866 - accuracy: 0.9732 - val_loss: 0.1535 - val_accuracy: 0.9737\n",
      "Epoch 151/200\n",
      "23/23 [==============================] - 0s 3ms/step - loss: 0.1850 - accuracy: 0.9732 - val_loss: 0.1521 - val_accuracy: 0.9737\n",
      "Epoch 152/200\n",
      "23/23 [==============================] - 0s 2ms/step - loss: 0.1844 - accuracy: 0.9732 - val_loss: 0.1504 - val_accuracy: 0.9737\n",
      "Epoch 153/200\n",
      "23/23 [==============================] - 0s 2ms/step - loss: 0.1826 - accuracy: 0.9732 - val_loss: 0.1500 - val_accuracy: 0.9737\n",
      "Epoch 154/200\n",
      "23/23 [==============================] - 0s 2ms/step - loss: 0.1817 - accuracy: 0.9732 - val_loss: 0.1478 - val_accuracy: 0.9737\n",
      "Epoch 155/200\n",
      "23/23 [==============================] - 0s 2ms/step - loss: 0.1800 - accuracy: 0.9732 - val_loss: 0.1467 - val_accuracy: 0.9737\n",
      "Epoch 156/200\n",
      "23/23 [==============================] - 0s 2ms/step - loss: 0.1788 - accuracy: 0.9732 - val_loss: 0.1452 - val_accuracy: 0.9737\n",
      "Epoch 157/200\n",
      "23/23 [==============================] - 0s 3ms/step - loss: 0.1780 - accuracy: 0.9732 - val_loss: 0.1441 - val_accuracy: 0.9737\n",
      "Epoch 158/200\n",
      "23/23 [==============================] - 0s 3ms/step - loss: 0.1757 - accuracy: 0.9732 - val_loss: 0.1444 - val_accuracy: 0.9737\n",
      "Epoch 159/200\n",
      "23/23 [==============================] - 0s 3ms/step - loss: 0.1756 - accuracy: 0.9732 - val_loss: 0.1423 - val_accuracy: 0.9737\n",
      "Epoch 160/200\n",
      "23/23 [==============================] - 0s 3ms/step - loss: 0.1737 - accuracy: 0.9732 - val_loss: 0.1409 - val_accuracy: 0.9737\n",
      "Epoch 161/200\n",
      "23/23 [==============================] - 0s 3ms/step - loss: 0.1722 - accuracy: 0.9732 - val_loss: 0.1404 - val_accuracy: 0.9737\n",
      "Epoch 162/200\n",
      "23/23 [==============================] - 0s 3ms/step - loss: 0.1712 - accuracy: 0.9732 - val_loss: 0.1382 - val_accuracy: 0.9737\n",
      "Epoch 163/200\n",
      "23/23 [==============================] - 0s 2ms/step - loss: 0.1710 - accuracy: 0.9732 - val_loss: 0.1380 - val_accuracy: 0.9737\n",
      "Epoch 164/200\n",
      "23/23 [==============================] - 0s 3ms/step - loss: 0.1705 - accuracy: 0.9643 - val_loss: 0.1365 - val_accuracy: 0.9737\n",
      "Epoch 165/200\n",
      "23/23 [==============================] - 0s 3ms/step - loss: 0.1675 - accuracy: 0.9732 - val_loss: 0.1356 - val_accuracy: 0.9737\n",
      "Epoch 166/200\n",
      "23/23 [==============================] - 0s 2ms/step - loss: 0.1660 - accuracy: 0.9732 - val_loss: 0.1350 - val_accuracy: 0.9737\n",
      "Epoch 167/200\n",
      "23/23 [==============================] - 0s 2ms/step - loss: 0.1671 - accuracy: 0.9732 - val_loss: 0.1353 - val_accuracy: 0.9737\n",
      "Epoch 168/200\n",
      "23/23 [==============================] - 0s 4ms/step - loss: 0.1630 - accuracy: 0.9732 - val_loss: 0.1322 - val_accuracy: 0.9737\n",
      "Epoch 169/200\n",
      "23/23 [==============================] - 0s 4ms/step - loss: 0.1647 - accuracy: 0.9643 - val_loss: 0.1311 - val_accuracy: 0.9737\n",
      "Epoch 170/200\n",
      "23/23 [==============================] - 0s 4ms/step - loss: 0.1640 - accuracy: 0.9732 - val_loss: 0.1314 - val_accuracy: 0.9737\n",
      "Epoch 171/200\n",
      "23/23 [==============================] - 0s 3ms/step - loss: 0.1620 - accuracy: 0.9732 - val_loss: 0.1298 - val_accuracy: 0.9737\n",
      "Epoch 172/200\n",
      "23/23 [==============================] - 0s 3ms/step - loss: 0.1598 - accuracy: 0.9732 - val_loss: 0.1296 - val_accuracy: 0.9737\n",
      "Epoch 173/200\n"
     ]
    },
    {
     "name": "stdout",
     "output_type": "stream",
     "text": [
      "23/23 [==============================] - 0s 3ms/step - loss: 0.1592 - accuracy: 0.9732 - val_loss: 0.1281 - val_accuracy: 0.9737\n",
      "Epoch 174/200\n",
      "23/23 [==============================] - 0s 3ms/step - loss: 0.1579 - accuracy: 0.9732 - val_loss: 0.1275 - val_accuracy: 0.9737\n",
      "Epoch 175/200\n",
      "23/23 [==============================] - 0s 3ms/step - loss: 0.1567 - accuracy: 0.9732 - val_loss: 0.1263 - val_accuracy: 0.9737\n",
      "Epoch 176/200\n",
      "23/23 [==============================] - 0s 3ms/step - loss: 0.1557 - accuracy: 0.9732 - val_loss: 0.1253 - val_accuracy: 0.9737\n",
      "Epoch 177/200\n",
      "23/23 [==============================] - 0s 3ms/step - loss: 0.1553 - accuracy: 0.9732 - val_loss: 0.1245 - val_accuracy: 0.9737\n",
      "Epoch 178/200\n",
      "23/23 [==============================] - 0s 3ms/step - loss: 0.1554 - accuracy: 0.9732 - val_loss: 0.1238 - val_accuracy: 0.9737\n",
      "Epoch 179/200\n",
      "23/23 [==============================] - 0s 3ms/step - loss: 0.1540 - accuracy: 0.9643 - val_loss: 0.1222 - val_accuracy: 0.9737\n",
      "Epoch 180/200\n",
      "23/23 [==============================] - 0s 3ms/step - loss: 0.1518 - accuracy: 0.9643 - val_loss: 0.1215 - val_accuracy: 0.9737\n",
      "Epoch 181/200\n",
      "23/23 [==============================] - 0s 2ms/step - loss: 0.1496 - accuracy: 0.9732 - val_loss: 0.1225 - val_accuracy: 0.9737\n",
      "Epoch 182/200\n",
      "23/23 [==============================] - 0s 3ms/step - loss: 0.1507 - accuracy: 0.9732 - val_loss: 0.1224 - val_accuracy: 0.9737\n",
      "Epoch 183/200\n",
      "23/23 [==============================] - 0s 2ms/step - loss: 0.1494 - accuracy: 0.9732 - val_loss: 0.1198 - val_accuracy: 0.9737\n",
      "Epoch 184/200\n",
      "23/23 [==============================] - 0s 3ms/step - loss: 0.1482 - accuracy: 0.9732 - val_loss: 0.1183 - val_accuracy: 0.9737\n",
      "Epoch 185/200\n",
      "23/23 [==============================] - 0s 3ms/step - loss: 0.1482 - accuracy: 0.9732 - val_loss: 0.1182 - val_accuracy: 0.9737\n",
      "Epoch 186/200\n",
      "23/23 [==============================] - 0s 4ms/step - loss: 0.1463 - accuracy: 0.9732 - val_loss: 0.1172 - val_accuracy: 0.9737\n",
      "Epoch 187/200\n",
      "23/23 [==============================] - 0s 3ms/step - loss: 0.1453 - accuracy: 0.9732 - val_loss: 0.1164 - val_accuracy: 0.9737\n",
      "Epoch 188/200\n",
      "23/23 [==============================] - 0s 3ms/step - loss: 0.1444 - accuracy: 0.9643 - val_loss: 0.1150 - val_accuracy: 0.9737\n",
      "Epoch 189/200\n",
      "23/23 [==============================] - 0s 3ms/step - loss: 0.1439 - accuracy: 0.9643 - val_loss: 0.1146 - val_accuracy: 0.9737\n",
      "Epoch 190/200\n",
      "23/23 [==============================] - 0s 3ms/step - loss: 0.1437 - accuracy: 0.9732 - val_loss: 0.1148 - val_accuracy: 0.9737\n",
      "Epoch 191/200\n",
      "23/23 [==============================] - 0s 3ms/step - loss: 0.1426 - accuracy: 0.9732 - val_loss: 0.1138 - val_accuracy: 0.9737\n",
      "Epoch 192/200\n",
      "23/23 [==============================] - 0s 4ms/step - loss: 0.1415 - accuracy: 0.9732 - val_loss: 0.1126 - val_accuracy: 0.9737\n",
      "Epoch 193/200\n",
      "23/23 [==============================] - 0s 5ms/step - loss: 0.1409 - accuracy: 0.9643 - val_loss: 0.1113 - val_accuracy: 0.9737\n",
      "Epoch 194/200\n",
      "23/23 [==============================] - 0s 5ms/step - loss: 0.1397 - accuracy: 0.9643 - val_loss: 0.1112 - val_accuracy: 0.9737\n",
      "Epoch 195/200\n",
      "23/23 [==============================] - 0s 4ms/step - loss: 0.1397 - accuracy: 0.9732 - val_loss: 0.1114 - val_accuracy: 0.9737\n",
      "Epoch 196/200\n",
      "23/23 [==============================] - 0s 3ms/step - loss: 0.1380 - accuracy: 0.9732 - val_loss: 0.1095 - val_accuracy: 0.9737\n",
      "Epoch 197/200\n",
      "23/23 [==============================] - 0s 4ms/step - loss: 0.1378 - accuracy: 0.9643 - val_loss: 0.1092 - val_accuracy: 0.9737\n",
      "Epoch 198/200\n",
      "23/23 [==============================] - 0s 4ms/step - loss: 0.1380 - accuracy: 0.9643 - val_loss: 0.1084 - val_accuracy: 0.9737\n",
      "Epoch 199/200\n",
      "23/23 [==============================] - 0s 3ms/step - loss: 0.1362 - accuracy: 0.9643 - val_loss: 0.1083 - val_accuracy: 0.9737\n",
      "Epoch 200/200\n",
      "23/23 [==============================] - 0s 3ms/step - loss: 0.1359 - accuracy: 0.9732 - val_loss: 0.1077 - val_accuracy: 0.9737\n"
     ]
    },
    {
     "data": {
      "text/plain": [
       "<tensorflow.python.keras.callbacks.History at 0x7fad7215d1c0>"
      ]
     },
     "execution_count": 44,
     "metadata": {},
     "output_type": "execute_result"
    }
   ],
   "source": [
    "model.fit(x=X_train, y=y_train, epochs=200, batch_size=5, validation_data=(X_test,y_test))"
   ]
  },
  {
   "cell_type": "code",
   "execution_count": 31,
   "metadata": {},
   "outputs": [],
   "source": [
    "losses = pd.DataFrame(model.history.history)"
   ]
  },
  {
   "cell_type": "markdown",
   "metadata": {},
   "source": [
    "   ### PLOT"
   ]
  },
  {
   "cell_type": "code",
   "execution_count": 32,
   "metadata": {},
   "outputs": [
    {
     "data": {
      "text/plain": [
       "<matplotlib.axes._subplots.AxesSubplot at 0x7fad6fc685e0>"
      ]
     },
     "execution_count": 32,
     "metadata": {},
     "output_type": "execute_result"
    },
    {
     "data": {
      "image/png": "[encoded data removed]",
      "text/plain": [
       "<Figure size 432x288 with 1 Axes>"
      ]
     },
     "metadata": {
      "needs_background": "light"
     },
     "output_type": "display_data"
    }
   ],
   "source": [
    "losses.plot()"
   ]
  },
  {
   "cell_type": "code",
   "execution_count": 53,
   "metadata": {},
   "outputs": [
    {
     "data": {
      "image/png": "[encoded data removed]",
      "text/plain": [
       "<Figure size 864x576 with 1 Axes>"
      ]
     },
     "metadata": {
      "needs_background": "light"
     },
     "output_type": "display_data"
    }
   ],
   "source": [
    "plt.figure(figsize=(12,8))\n",
    "plt.plot(model.history.history['accuracy'])\n",
    "plt.plot(model.history.history['val_accuracy'])\n",
    "plt.title('Model Accuracy')\n",
    "plt.ylabel('Accuracy')\n",
    "plt.xlabel('Epoch')\n",
    "plt.legend(['Train', 'Validation'], loc='upper left')\n",
    "plt.show()"
   ]
  },
  {
   "cell_type": "code",
   "execution_count": 54,
   "metadata": {},
   "outputs": [
    {
     "data": {
      "image/png": "[encoded data removed]",
      "text/plain": [
       "<Figure size 864x576 with 1 Axes>"
      ]
     },
     "metadata": {
      "needs_background": "light"
     },
     "output_type": "display_data"
    }
   ],
   "source": [
    "# \"Loss\"\n",
    "plt.figure(figsize=(12,8))\n",
    "plt.plot(model.history.history['loss'], 'g' )\n",
    "plt.plot(model.history.history['val_loss'], 'y')\n",
    "plt.title('Model Loss')\n",
    "plt.ylabel('Loss')\n",
    "plt.xlabel('Epoch')\n",
    "plt.legend(['Train', 'Validation'], loc='upper left')\n",
    "plt.show()"
   ]
  },
  {
   "cell_type": "markdown",
   "metadata": {},
   "source": [
    "### PREDICTIONS | ACCURACY\n"
   ]
  },
  {
   "cell_type": "code",
   "execution_count": 91,
   "metadata": {},
   "outputs": [],
   "source": [
    "from sklearn.metrics import classification_report,confusion_matrix\n",
    "from sklearn.metrics import accuracy_score\n",
    "from sklearn.metrics import mean_absolute_error, mean_squared_error, explained_variance_score"
   ]
  },
  {
   "cell_type": "code",
   "execution_count": 146,
   "metadata": {},
   "outputs": [],
   "source": [
    "predictions = model.predict_classes(X_test)"
   ]
  },
  {
   "cell_type": "code",
   "execution_count": 147,
   "metadata": {},
   "outputs": [
    {
     "data": {
      "text/plain": [
       "array([[ 0.52941176,  0.36363636,  0.64285714,  0.45833333],\n",
       "       [ 0.41176471,  0.81818182,  0.10714286,  0.08333333],\n",
       "       [ 1.        ,  0.27272727,  1.03571429,  0.91666667],\n",
       "       [ 0.5       ,  0.40909091,  0.60714286,  0.58333333],\n",
       "       [ 0.73529412,  0.36363636,  0.66071429,  0.54166667],\n",
       "       [ 0.32352941,  0.63636364,  0.07142857,  0.125     ],\n",
       "       [ 0.38235294,  0.40909091,  0.44642857,  0.5       ],\n",
       "       [ 0.76470588,  0.5       ,  0.71428571,  0.91666667],\n",
       "       [ 0.55882353,  0.09090909,  0.60714286,  0.58333333],\n",
       "       [ 0.44117647,  0.31818182,  0.5       ,  0.45833333],\n",
       "       [ 0.64705882,  0.54545455,  0.71428571,  0.79166667],\n",
       "       [ 0.14705882,  0.45454545,  0.05357143,  0.        ],\n",
       "       [ 0.35294118,  0.68181818,  0.03571429,  0.04166667],\n",
       "       [ 0.17647059,  0.5       ,  0.07142857,  0.        ],\n",
       "       [ 0.23529412,  0.81818182,  0.07142857,  0.08333333],\n",
       "       [ 0.58823529,  0.59090909,  0.64285714,  0.625     ],\n",
       "       [ 0.64705882,  0.45454545,  0.83928571,  0.875     ],\n",
       "       [ 0.38235294,  0.22727273,  0.5       ,  0.41666667],\n",
       "       [ 0.41176471,  0.36363636,  0.60714286,  0.5       ],\n",
       "       [ 0.61764706,  0.36363636,  0.80357143,  0.875     ],\n",
       "       [ 0.11764706,  0.54545455,  0.08928571,  0.04166667],\n",
       "       [ 0.52941176,  0.45454545,  0.67857143,  0.70833333],\n",
       "       [ 0.20588235,  0.63636364,  0.08928571,  0.125     ],\n",
       "       [ 0.61764706,  0.36363636,  0.80357143,  0.83333333],\n",
       "       [ 1.05882353,  0.81818182,  0.94642857,  0.79166667],\n",
       "       [ 0.70588235,  0.45454545,  0.73214286,  0.91666667],\n",
       "       [ 0.70588235,  0.22727273,  0.83928571,  0.70833333],\n",
       "       [ 0.73529412,  0.54545455,  0.85714286,  0.91666667],\n",
       "       [ 0.14705882,  0.45454545,  0.05357143,  0.08333333],\n",
       "       [ 0.14705882,  0.5       ,  0.08928571,  0.04166667],\n",
       "       [ 0.08823529,  0.72727273, -0.01785714,  0.04166667],\n",
       "       [ 0.41176471,  1.09090909,  0.07142857,  0.125     ],\n",
       "       [ 0.70588235,  0.5       ,  0.58928571,  0.54166667],\n",
       "       [ 0.14705882,  0.63636364,  0.08928571,  0.04166667],\n",
       "       [ 0.02941176,  0.54545455,  0.03571429,  0.04166667],\n",
       "       [ 0.58823529,  0.22727273,  0.69642857,  0.75      ],\n",
       "       [ 0.61764706,  0.54545455,  0.60714286,  0.58333333],\n",
       "       [ 0.26470588,  0.68181818,  0.07142857,  0.04166667]])"
      ]
     },
     "execution_count": 147,
     "metadata": {},
     "output_type": "execute_result"
    }
   ],
   "source": [
    "X_test"
   ]
  },
  {
   "cell_type": "code",
   "execution_count": 148,
   "metadata": {},
   "outputs": [
    {
     "data": {
      "text/plain": [
       "array([1, 0, 2, 1, 1, 0, 1, 2, 2, 1, 2, 0, 0, 0, 0, 1, 2, 1, 1, 2, 0, 2,\n",
       "       0, 2, 2, 2, 2, 2, 0, 0, 0, 0, 1, 0, 0, 2, 1, 0])"
      ]
     },
     "execution_count": 148,
     "metadata": {},
     "output_type": "execute_result"
    }
   ],
   "source": [
    "predictions"
   ]
  },
  {
   "cell_type": "code",
   "execution_count": 152,
   "metadata": {},
   "outputs": [],
   "source": [
    "predictions = to_categorical(predictions)"
   ]
  },
  {
   "cell_type": "code",
   "execution_count": 151,
   "metadata": {},
   "outputs": [
    {
     "data": {
      "text/plain": [
       "array([[0., 1., 0.],\n",
       "       [1., 0., 0.],\n",
       "       [0., 0., 1.],\n",
       "       [0., 1., 0.],\n",
       "       [0., 1., 0.],\n",
       "       [1., 0., 0.],\n",
       "       [0., 1., 0.],\n",
       "       [0., 0., 1.],\n",
       "       [0., 1., 0.],\n",
       "       [0., 1., 0.],\n",
       "       [0., 0., 1.],\n",
       "       [1., 0., 0.],\n",
       "       [1., 0., 0.],\n",
       "       [1., 0., 0.],\n",
       "       [1., 0., 0.],\n",
       "       [0., 1., 0.],\n",
       "       [0., 0., 1.],\n",
       "       [0., 1., 0.],\n",
       "       [0., 1., 0.],\n",
       "       [0., 0., 1.],\n",
       "       [1., 0., 0.],\n",
       "       [0., 0., 1.],\n",
       "       [1., 0., 0.],\n",
       "       [0., 0., 1.],\n",
       "       [0., 0., 1.],\n",
       "       [0., 0., 1.],\n",
       "       [0., 0., 1.],\n",
       "       [0., 0., 1.],\n",
       "       [1., 0., 0.],\n",
       "       [1., 0., 0.],\n",
       "       [1., 0., 0.],\n",
       "       [1., 0., 0.],\n",
       "       [0., 1., 0.],\n",
       "       [1., 0., 0.],\n",
       "       [1., 0., 0.],\n",
       "       [0., 0., 1.],\n",
       "       [0., 1., 0.],\n",
       "       [1., 0., 0.]], dtype=float32)"
      ]
     },
     "execution_count": 151,
     "metadata": {},
     "output_type": "execute_result"
    }
   ],
   "source": [
    "y_test"
   ]
  },
  {
   "cell_type": "code",
   "execution_count": 153,
   "metadata": {},
   "outputs": [
    {
     "name": "stdout",
     "output_type": "stream",
     "text": [
      "              precision    recall  f1-score   support\n",
      "\n",
      "           0       1.00      1.00      1.00        15\n",
      "           1       1.00      0.91      0.95        11\n",
      "           2       0.92      1.00      0.96        12\n",
      "\n",
      "   micro avg       0.97      0.97      0.97        38\n",
      "   macro avg       0.97      0.97      0.97        38\n",
      "weighted avg       0.98      0.97      0.97        38\n",
      " samples avg       0.97      0.97      0.97        38\n",
      "\n"
     ]
    }
   ],
   "source": [
    "print(classification_report(y_test, predictions))"
   ]
  },
  {
   "cell_type": "code",
   "execution_count": 154,
   "metadata": {},
   "outputs": [
    {
     "name": "stdout",
     "output_type": "stream",
     "text": [
      "[[15  0  0]\n",
      " [ 0 10  1]\n",
      " [ 0  0 12]]\n"
     ]
    }
   ],
   "source": [
    "print(confusion_matrix(y_test.argmax(axis=1), predictions.argmax(axis=1)))"
   ]
  },
  {
   "cell_type": "code",
   "execution_count": 155,
   "metadata": {},
   "outputs": [
    {
     "data": {
      "text/plain": [
       "0.9189436435699463"
      ]
     },
     "execution_count": 155,
     "metadata": {},
     "output_type": "execute_result"
    }
   ],
   "source": [
    "# how much variance is being explained by the model\n",
    "explained_variance_score(y_test,predictions)"
   ]
  },
  {
   "cell_type": "code",
   "execution_count": 55,
   "metadata": {},
   "outputs": [
    {
     "data": {
      "text/html": [
       "<div>\n",
       "<style scoped>\n",
       "    .dataframe tbody tr th:only-of-type {\n",
       "        vertical-align: middle;\n",
       "    }\n",
       "\n",
       "    .dataframe tbody tr th {\n",
       "        vertical-align: top;\n",
       "    }\n",
       "\n",
       "    .dataframe thead th {\n",
       "        text-align: right;\n",
       "    }\n",
       "</style>\n",
       "<table border=\"1\" class=\"dataframe\">\n",
       "  <thead>\n",
       "    <tr style=\"text-align: right;\">\n",
       "      <th></th>\n",
       "      <th>sepal_length</th>\n",
       "      <th>sepal_width</th>\n",
       "      <th>petal_length</th>\n",
       "      <th>petal_width</th>\n",
       "      <th>species</th>\n",
       "    </tr>\n",
       "  </thead>\n",
       "  <tbody>\n",
       "    <tr>\n",
       "      <th>0</th>\n",
       "      <td>5.1</td>\n",
       "      <td>3.5</td>\n",
       "      <td>1.4</td>\n",
       "      <td>0.2</td>\n",
       "      <td>Iris-setosa</td>\n",
       "    </tr>\n",
       "    <tr>\n",
       "      <th>1</th>\n",
       "      <td>4.9</td>\n",
       "      <td>3.0</td>\n",
       "      <td>1.4</td>\n",
       "      <td>0.2</td>\n",
       "      <td>Iris-setosa</td>\n",
       "    </tr>\n",
       "    <tr>\n",
       "      <th>2</th>\n",
       "      <td>4.7</td>\n",
       "      <td>3.2</td>\n",
       "      <td>1.3</td>\n",
       "      <td>0.2</td>\n",
       "      <td>Iris-setosa</td>\n",
       "    </tr>\n",
       "    <tr>\n",
       "      <th>3</th>\n",
       "      <td>4.6</td>\n",
       "      <td>3.1</td>\n",
       "      <td>1.5</td>\n",
       "      <td>0.2</td>\n",
       "      <td>Iris-setosa</td>\n",
       "    </tr>\n",
       "    <tr>\n",
       "      <th>4</th>\n",
       "      <td>5.0</td>\n",
       "      <td>3.6</td>\n",
       "      <td>1.4</td>\n",
       "      <td>0.2</td>\n",
       "      <td>Iris-setosa</td>\n",
       "    </tr>\n",
       "  </tbody>\n",
       "</table>\n",
       "</div>"
      ],
      "text/plain": [
       "   sepal_length  sepal_width  petal_length  petal_width      species\n",
       "0           5.1          3.5           1.4          0.2  Iris-setosa\n",
       "1           4.9          3.0           1.4          0.2  Iris-setosa\n",
       "2           4.7          3.2           1.3          0.2  Iris-setosa\n",
       "3           4.6          3.1           1.5          0.2  Iris-setosa\n",
       "4           5.0          3.6           1.4          0.2  Iris-setosa"
      ]
     },
     "execution_count": 55,
     "metadata": {},
     "output_type": "execute_result"
    }
   ],
   "source": [
    "df.head()"
   ]
  },
  {
   "cell_type": "markdown",
   "metadata": {},
   "source": [
    "### Predictions"
   ]
  },
  {
   "cell_type": "code",
   "execution_count": 56,
   "metadata": {},
   "outputs": [],
   "source": [
    "single_iris = df.drop('species', axis=1).iloc[0]"
   ]
  },
  {
   "cell_type": "code",
   "execution_count": 57,
   "metadata": {},
   "outputs": [
    {
     "data": {
      "text/plain": [
       "sepal_length    5.1\n",
       "sepal_width     3.5\n",
       "petal_length    1.4\n",
       "petal_width     0.2\n",
       "Name: 0, dtype: float64"
      ]
     },
     "execution_count": 57,
     "metadata": {},
     "output_type": "execute_result"
    }
   ],
   "source": [
    "single_iris"
   ]
  },
  {
   "cell_type": "code",
   "execution_count": 58,
   "metadata": {},
   "outputs": [],
   "source": [
    "single_iris = scaler.transform(single_iris.values.reshape(-1,4))"
   ]
  },
  {
   "cell_type": "code",
   "execution_count": 59,
   "metadata": {},
   "outputs": [
    {
     "data": {
      "text/plain": [
       "array([[0.23529412, 0.68181818, 0.05357143, 0.04166667]])"
      ]
     },
     "execution_count": 59,
     "metadata": {},
     "output_type": "execute_result"
    }
   ],
   "source": [
    "single_iris"
   ]
  },
  {
   "cell_type": "code",
   "execution_count": 104,
   "metadata": {},
   "outputs": [
    {
     "name": "stdout",
     "output_type": "stream",
     "text": [
      "99.43% likely to be an 'Iris-setosa'\n",
      "0.57% likely to be an 'Iris-versicolor'\n",
      "0.00% likely to be an 'Iris-virginica'\n"
     ]
    }
   ],
   "source": [
    "model_percent = model.predict(single_iris)\n",
    "\n",
    "for inner_list in model_percent:\n",
    "    for index,val in enumerate(inner_list):\n",
    "        \n",
    "        prediction_ = np.argmax(to_categorical([index]), axis = 1)\n",
    "        prediction_ = encoder.inverse_transform([index])\n",
    "        \n",
    "        prediction_ = str(prediction_).strip('[').strip(']')\n",
    "        print(\"{0:.2%} likely to be an {1}\".format((val), prediction_))"
   ]
  },
  {
   "cell_type": "code",
   "execution_count": 75,
   "metadata": {},
   "outputs": [
    {
     "name": "stdout",
     "output_type": "stream",
     "text": [
      "[1]\n"
     ]
    }
   ],
   "source": [
    "#x = model.predict_classes(single_iris)\n",
    "x = [1]\n",
    "print(x)\n",
    "prediction_ = np.argmax(to_categorical(x), axis = 1)\n",
    "prediction_ = encoder.inverse_transform(x)"
   ]
  },
  {
   "cell_type": "code",
   "execution_count": 76,
   "metadata": {},
   "outputs": [
    {
     "data": {
      "text/plain": [
       "array(['Iris-versicolor'], dtype=object)"
      ]
     },
     "execution_count": 76,
     "metadata": {},
     "output_type": "execute_result"
    }
   ],
   "source": [
    "prediction_"
   ]
  },
  {
   "cell_type": "code",
   "execution_count": 204,
   "metadata": {},
   "outputs": [
    {
     "data": {
      "text/html": [
       "<div>\n",
       "<style scoped>\n",
       "    .dataframe tbody tr th:only-of-type {\n",
       "        vertical-align: middle;\n",
       "    }\n",
       "\n",
       "    .dataframe tbody tr th {\n",
       "        vertical-align: top;\n",
       "    }\n",
       "\n",
       "    .dataframe thead th {\n",
       "        text-align: right;\n",
       "    }\n",
       "</style>\n",
       "<table border=\"1\" class=\"dataframe\">\n",
       "  <thead>\n",
       "    <tr style=\"text-align: right;\">\n",
       "      <th></th>\n",
       "      <th>sepal_length</th>\n",
       "      <th>sepal_width</th>\n",
       "      <th>petal_length</th>\n",
       "      <th>petal_width</th>\n",
       "      <th>species</th>\n",
       "    </tr>\n",
       "  </thead>\n",
       "  <tbody>\n",
       "    <tr>\n",
       "      <th>0</th>\n",
       "      <td>5.1</td>\n",
       "      <td>3.5</td>\n",
       "      <td>1.4</td>\n",
       "      <td>0.2</td>\n",
       "      <td>Iris-setosa</td>\n",
       "    </tr>\n",
       "  </tbody>\n",
       "</table>\n",
       "</div>"
      ],
      "text/plain": [
       "   sepal_length  sepal_width  petal_length  petal_width      species\n",
       "0           5.1          3.5           1.4          0.2  Iris-setosa"
      ]
     },
     "execution_count": 204,
     "metadata": {},
     "output_type": "execute_result"
    }
   ],
   "source": [
    "df.head(1)"
   ]
  },
  {
   "cell_type": "markdown",
   "metadata": {},
   "source": [
    "### EarlyStopping"
   ]
  },
  {
   "cell_type": "code",
   "execution_count": 98,
   "metadata": {},
   "outputs": [],
   "source": [
    "model = Sequential()\n",
    "model.add(Dense(4, activation='relu'))\n",
    "model.add(Dense(2, activation='relu'))\n",
    "\n",
    "# BINARY CLASSIFICATION\n",
    "model.add(Dense(1, activation='sigmoid'))\n",
    "model.compile(loss='binary_crossentropy', optimizer='adam')"
   ]
  },
  {
   "cell_type": "code",
   "execution_count": 99,
   "metadata": {},
   "outputs": [],
   "source": [
    "from tensorflow.keras.callbacks import EarlyStopping"
   ]
  },
  {
   "cell_type": "code",
   "execution_count": 100,
   "metadata": {},
   "outputs": [],
   "source": [
    "early_stop = EarlyStopping(monitor='val_loss', mode='min', verbose=1, patience=25) # want to min losses"
   ]
  },
  {
   "cell_type": "code",
   "execution_count": 101,
   "metadata": {},
   "outputs": [
    {
     "name": "stdout",
     "output_type": "stream",
     "text": [
      "Epoch 1/200\n",
      "4/4 [==============================] - 0s 21ms/step - loss: 0.7066 - val_loss: 0.7040\n",
      "Epoch 2/200\n",
      "4/4 [==============================] - 0s 7ms/step - loss: 0.7013 - val_loss: 0.6994\n",
      "Epoch 3/200\n",
      "4/4 [==============================] - 0s 7ms/step - loss: 0.6960 - val_loss: 0.6948\n",
      "Epoch 4/200\n",
      "4/4 [==============================] - 0s 8ms/step - loss: 0.6909 - val_loss: 0.6905\n",
      "Epoch 5/200\n",
      "4/4 [==============================] - 0s 8ms/step - loss: 0.6859 - val_loss: 0.6862\n",
      "Epoch 6/200\n",
      "4/4 [==============================] - 0s 8ms/step - loss: 0.6816 - val_loss: 0.6821\n",
      "Epoch 7/200\n",
      "4/4 [==============================] - 0s 8ms/step - loss: 0.6770 - val_loss: 0.6784\n",
      "Epoch 8/200\n",
      "4/4 [==============================] - 0s 8ms/step - loss: 0.6730 - val_loss: 0.6748\n",
      "Epoch 9/200\n",
      "4/4 [==============================] - 0s 8ms/step - loss: 0.6692 - val_loss: 0.6716\n",
      "Epoch 10/200\n",
      "4/4 [==============================] - 0s 9ms/step - loss: 0.6654 - val_loss: 0.6688\n",
      "Epoch 11/200\n",
      "4/4 [==============================] - 0s 8ms/step - loss: 0.6620 - val_loss: 0.6662\n",
      "Epoch 12/200\n",
      "4/4 [==============================] - 0s 8ms/step - loss: 0.6585 - val_loss: 0.6637\n",
      "Epoch 13/200\n",
      "4/4 [==============================] - 0s 7ms/step - loss: 0.6554 - val_loss: 0.6613\n",
      "Epoch 14/200\n",
      "4/4 [==============================] - 0s 7ms/step - loss: 0.6521 - val_loss: 0.6588\n",
      "Epoch 15/200\n",
      "4/4 [==============================] - 0s 7ms/step - loss: 0.6489 - val_loss: 0.6562\n",
      "Epoch 16/200\n",
      "4/4 [==============================] - 0s 7ms/step - loss: 0.6458 - val_loss: 0.6535\n",
      "Epoch 17/200\n",
      "4/4 [==============================] - 0s 7ms/step - loss: 0.6423 - val_loss: 0.6508\n",
      "Epoch 18/200\n",
      "4/4 [==============================] - 0s 7ms/step - loss: 0.6393 - val_loss: 0.6480\n",
      "Epoch 19/200\n",
      "4/4 [==============================] - 0s 8ms/step - loss: 0.6357 - val_loss: 0.6452\n",
      "Epoch 20/200\n",
      "4/4 [==============================] - 0s 11ms/step - loss: 0.6324 - val_loss: 0.6424\n",
      "Epoch 21/200\n",
      "4/4 [==============================] - 0s 10ms/step - loss: 0.6289 - val_loss: 0.6395\n",
      "Epoch 22/200\n",
      "4/4 [==============================] - 0s 9ms/step - loss: 0.6255 - val_loss: 0.6366\n",
      "Epoch 23/200\n",
      "4/4 [==============================] - 0s 9ms/step - loss: 0.6220 - val_loss: 0.6336\n",
      "Epoch 24/200\n",
      "4/4 [==============================] - 0s 9ms/step - loss: 0.6186 - val_loss: 0.6305\n",
      "Epoch 25/200\n",
      "4/4 [==============================] - 0s 10ms/step - loss: 0.6146 - val_loss: 0.6275\n",
      "Epoch 26/200\n",
      "4/4 [==============================] - 0s 9ms/step - loss: 0.6110 - val_loss: 0.6243\n",
      "Epoch 27/200\n",
      "4/4 [==============================] - 0s 10ms/step - loss: 0.6071 - val_loss: 0.6212\n",
      "Epoch 28/200\n",
      "4/4 [==============================] - 0s 8ms/step - loss: 0.6033 - val_loss: 0.6179\n",
      "Epoch 29/200\n",
      "4/4 [==============================] - 0s 7ms/step - loss: 0.5994 - val_loss: 0.6144\n",
      "Epoch 30/200\n",
      "4/4 [==============================] - 0s 9ms/step - loss: 0.5955 - val_loss: 0.6109\n",
      "Epoch 31/200\n",
      "4/4 [==============================] - 0s 7ms/step - loss: 0.5910 - val_loss: 0.6074\n",
      "Epoch 32/200\n",
      "4/4 [==============================] - 0s 10ms/step - loss: 0.5865 - val_loss: 0.6038\n",
      "Epoch 33/200\n",
      "4/4 [==============================] - 0s 9ms/step - loss: 0.5823 - val_loss: 0.6000\n",
      "Epoch 34/200\n",
      "4/4 [==============================] - 0s 9ms/step - loss: 0.5775 - val_loss: 0.5963\n",
      "Epoch 35/200\n",
      "4/4 [==============================] - 0s 10ms/step - loss: 0.5727 - val_loss: 0.5925\n",
      "Epoch 36/200\n",
      "4/4 [==============================] - 0s 9ms/step - loss: 0.5681 - val_loss: 0.5884\n",
      "Epoch 37/200\n",
      "4/4 [==============================] - 0s 9ms/step - loss: 0.5631 - val_loss: 0.5841\n",
      "Epoch 38/200\n",
      "4/4 [==============================] - 0s 9ms/step - loss: 0.5579 - val_loss: 0.5798\n",
      "Epoch 39/200\n",
      "4/4 [==============================] - 0s 11ms/step - loss: 0.5523 - val_loss: 0.5753\n",
      "Epoch 40/200\n",
      "4/4 [==============================] - 0s 9ms/step - loss: 0.5468 - val_loss: 0.5705\n",
      "Epoch 41/200\n",
      "4/4 [==============================] - 0s 9ms/step - loss: 0.5409 - val_loss: 0.5657\n",
      "Epoch 42/200\n",
      "4/4 [==============================] - 0s 9ms/step - loss: 0.5349 - val_loss: 0.5607\n",
      "Epoch 43/200\n",
      "4/4 [==============================] - 0s 10ms/step - loss: 0.5292 - val_loss: 0.5554\n",
      "Epoch 44/200\n",
      "4/4 [==============================] - 0s 9ms/step - loss: 0.5225 - val_loss: 0.5500\n",
      "Epoch 45/200\n",
      "4/4 [==============================] - 0s 8ms/step - loss: 0.5158 - val_loss: 0.5443\n",
      "Epoch 46/200\n",
      "4/4 [==============================] - 0s 7ms/step - loss: 0.5092 - val_loss: 0.5383\n",
      "Epoch 47/200\n",
      "4/4 [==============================] - 0s 7ms/step - loss: 0.5019 - val_loss: 0.5323\n",
      "Epoch 48/200\n",
      "4/4 [==============================] - 0s 7ms/step - loss: 0.4943 - val_loss: 0.5260\n",
      "Epoch 49/200\n",
      "4/4 [==============================] - 0s 10ms/step - loss: 0.4871 - val_loss: 0.5194\n",
      "Epoch 50/200\n",
      "4/4 [==============================] - 0s 8ms/step - loss: 0.4789 - val_loss: 0.5126\n",
      "Epoch 51/200\n",
      "4/4 [==============================] - 0s 8ms/step - loss: 0.4705 - val_loss: 0.5054\n",
      "Epoch 52/200\n",
      "4/4 [==============================] - 0s 8ms/step - loss: 0.4624 - val_loss: 0.4979\n",
      "Epoch 53/200\n",
      "4/4 [==============================] - 0s 7ms/step - loss: 0.4525 - val_loss: 0.4903\n",
      "Epoch 54/200\n",
      "4/4 [==============================] - 0s 7ms/step - loss: 0.4442 - val_loss: 0.4820\n",
      "Epoch 55/200\n",
      "4/4 [==============================] - 0s 7ms/step - loss: 0.4341 - val_loss: 0.4737\n",
      "Epoch 56/200\n",
      "4/4 [==============================] - 0s 7ms/step - loss: 0.4241 - val_loss: 0.4652\n",
      "Epoch 57/200\n",
      "4/4 [==============================] - 0s 7ms/step - loss: 0.4141 - val_loss: 0.4563\n",
      "Epoch 58/200\n",
      "4/4 [==============================] - 0s 8ms/step - loss: 0.4036 - val_loss: 0.4473\n",
      "Epoch 59/200\n",
      "4/4 [==============================] - 0s 8ms/step - loss: 0.3930 - val_loss: 0.4383\n",
      "Epoch 60/200\n",
      "4/4 [==============================] - 0s 7ms/step - loss: 0.3819 - val_loss: 0.4289\n",
      "Epoch 61/200\n",
      "4/4 [==============================] - 0s 7ms/step - loss: 0.3707 - val_loss: 0.4194\n",
      "Epoch 62/200\n",
      "4/4 [==============================] - 0s 7ms/step - loss: 0.3598 - val_loss: 0.4094\n",
      "Epoch 63/200\n",
      "4/4 [==============================] - 0s 7ms/step - loss: 0.3474 - val_loss: 0.3995\n",
      "Epoch 64/200\n",
      "4/4 [==============================] - 0s 7ms/step - loss: 0.3359 - val_loss: 0.3893\n",
      "Epoch 65/200\n",
      "4/4 [==============================] - 0s 7ms/step - loss: 0.3231 - val_loss: 0.3791\n",
      "Epoch 66/200\n",
      "4/4 [==============================] - 0s 7ms/step - loss: 0.3118 - val_loss: 0.3684\n",
      "Epoch 67/200\n",
      "4/4 [==============================] - 0s 7ms/step - loss: 0.2988 - val_loss: 0.3578\n",
      "Epoch 68/200\n",
      "4/4 [==============================] - 0s 8ms/step - loss: 0.2867 - val_loss: 0.3471\n",
      "Epoch 69/200\n",
      "4/4 [==============================] - 0s 7ms/step - loss: 0.2739 - val_loss: 0.3364\n",
      "Epoch 70/200\n",
      "4/4 [==============================] - 0s 7ms/step - loss: 0.2606 - val_loss: 0.3259\n",
      "Epoch 71/200\n",
      "4/4 [==============================] - 0s 7ms/step - loss: 0.2481 - val_loss: 0.3150\n",
      "Epoch 72/200\n",
      "4/4 [==============================] - 0s 7ms/step - loss: 0.2342 - val_loss: 0.3042\n",
      "Epoch 73/200\n",
      "4/4 [==============================] - 0s 7ms/step - loss: 0.2228 - val_loss: 0.2928\n",
      "Epoch 74/200\n",
      "4/4 [==============================] - 0s 7ms/step - loss: 0.2084 - val_loss: 0.2818\n",
      "Epoch 75/200\n",
      "4/4 [==============================] - 0s 7ms/step - loss: 0.1947 - val_loss: 0.2707\n",
      "Epoch 76/200\n",
      "4/4 [==============================] - 0s 7ms/step - loss: 0.1826 - val_loss: 0.2592\n",
      "Epoch 77/200\n",
      "4/4 [==============================] - 0s 7ms/step - loss: 0.1683 - val_loss: 0.2479\n",
      "Epoch 78/200\n",
      "4/4 [==============================] - 0s 8ms/step - loss: 0.1541 - val_loss: 0.2368\n",
      "Epoch 79/200\n",
      "4/4 [==============================] - 0s 7ms/step - loss: 0.1401 - val_loss: 0.2255\n",
      "Epoch 80/200\n",
      "4/4 [==============================] - 0s 7ms/step - loss: 0.1275 - val_loss: 0.2139\n",
      "Epoch 81/200\n",
      "4/4 [==============================] - 0s 7ms/step - loss: 0.1123 - val_loss: 0.2025\n",
      "Epoch 82/200\n",
      "4/4 [==============================] - 0s 7ms/step - loss: 0.0992 - val_loss: 0.1908\n",
      "Epoch 83/200\n",
      "4/4 [==============================] - 0s 7ms/step - loss: 0.0846 - val_loss: 0.1791\n",
      "Epoch 84/200\n",
      "4/4 [==============================] - 0s 7ms/step - loss: 0.0705 - val_loss: 0.1672\n",
      "Epoch 85/200\n",
      "4/4 [==============================] - 0s 7ms/step - loss: 0.0548 - val_loss: 0.1555\n",
      "Epoch 86/200\n",
      "4/4 [==============================] - 0s 7ms/step - loss: 0.0425 - val_loss: 0.1434\n",
      "Epoch 87/200\n",
      "4/4 [==============================] - 0s 7ms/step - loss: 0.0273 - val_loss: 0.1316\n",
      "Epoch 88/200\n",
      "4/4 [==============================] - 0s 8ms/step - loss: 0.0122 - val_loss: 0.1201\n",
      "Epoch 89/200\n",
      "4/4 [==============================] - 0s 7ms/step - loss: -0.0018 - val_loss: 0.1085\n",
      "Epoch 90/200\n",
      "4/4 [==============================] - 0s 7ms/step - loss: -0.0175 - val_loss: 0.0973\n",
      "Epoch 91/200\n",
      "4/4 [==============================] - 0s 7ms/step - loss: -0.0293 - val_loss: 0.0854\n",
      "Epoch 92/200\n",
      "4/4 [==============================] - 0s 7ms/step - loss: -0.0431 - val_loss: 0.0735\n",
      "Epoch 93/200\n",
      "4/4 [==============================] - 0s 7ms/step - loss: -0.0589 - val_loss: 0.0619\n",
      "Epoch 94/200\n",
      "4/4 [==============================] - 0s 7ms/step - loss: -0.0727 - val_loss: 0.0499\n",
      "Epoch 95/200\n",
      "4/4 [==============================] - 0s 7ms/step - loss: -0.0869 - val_loss: 0.0380\n",
      "Epoch 96/200\n",
      "4/4 [==============================] - 0s 7ms/step - loss: -0.1026 - val_loss: 0.0265\n",
      "Epoch 97/200\n",
      "4/4 [==============================] - 0s 8ms/step - loss: -0.1161 - val_loss: 0.0146\n",
      "Epoch 98/200\n",
      "4/4 [==============================] - 0s 7ms/step - loss: -0.1312 - val_loss: 0.0025\n",
      "Epoch 99/200\n",
      "4/4 [==============================] - 0s 7ms/step - loss: -0.1464 - val_loss: -0.0098\n",
      "Epoch 100/200\n",
      "4/4 [==============================] - 0s 7ms/step - loss: -0.1613 - val_loss: -0.0225\n",
      "Epoch 101/200\n",
      "4/4 [==============================] - 0s 7ms/step - loss: -0.1785 - val_loss: -0.0351\n",
      "Epoch 102/200\n",
      "4/4 [==============================] - 0s 7ms/step - loss: -0.1927 - val_loss: -0.0483\n",
      "Epoch 103/200\n",
      "4/4 [==============================] - 0s 7ms/step - loss: -0.2086 - val_loss: -0.0613\n",
      "Epoch 104/200\n",
      "4/4 [==============================] - 0s 7ms/step - loss: -0.2261 - val_loss: -0.0738\n",
      "Epoch 105/200\n",
      "4/4 [==============================] - 0s 7ms/step - loss: -0.2419 - val_loss: -0.0865\n",
      "Epoch 106/200\n",
      "4/4 [==============================] - 0s 7ms/step - loss: -0.2574 - val_loss: -0.0996\n",
      "Epoch 107/200\n",
      "4/4 [==============================] - 0s 9ms/step - loss: -0.2740 - val_loss: -0.1127\n",
      "Epoch 108/200\n",
      "4/4 [==============================] - 0s 10ms/step - loss: -0.2886 - val_loss: -0.1262\n",
      "Epoch 109/200\n",
      "4/4 [==============================] - 0s 7ms/step - loss: -0.3071 - val_loss: -0.1390\n",
      "Epoch 110/200\n",
      "4/4 [==============================] - 0s 7ms/step - loss: -0.3229 - val_loss: -0.1521\n",
      "Epoch 111/200\n",
      "4/4 [==============================] - 0s 7ms/step - loss: -0.3390 - val_loss: -0.1657\n",
      "Epoch 112/200\n",
      "4/4 [==============================] - 0s 7ms/step - loss: -0.3547 - val_loss: -0.1796\n",
      "Epoch 113/200\n",
      "4/4 [==============================] - 0s 7ms/step - loss: -0.3726 - val_loss: -0.1934\n",
      "Epoch 114/200\n",
      "4/4 [==============================] - 0s 7ms/step - loss: -0.3905 - val_loss: -0.2074\n",
      "Epoch 115/200\n",
      "4/4 [==============================] - 0s 7ms/step - loss: -0.4071 - val_loss: -0.2213\n",
      "Epoch 116/200\n",
      "4/4 [==============================] - 0s 9ms/step - loss: -0.4232 - val_loss: -0.2352\n",
      "Epoch 117/200\n",
      "4/4 [==============================] - 0s 10ms/step - loss: -0.4405 - val_loss: -0.2487\n",
      "Epoch 118/200\n",
      "4/4 [==============================] - 0s 9ms/step - loss: -0.4585 - val_loss: -0.2620\n",
      "Epoch 119/200\n",
      "4/4 [==============================] - 0s 8ms/step - loss: -0.4739 - val_loss: -0.2761\n",
      "Epoch 120/200\n",
      "4/4 [==============================] - 0s 8ms/step - loss: -0.4919 - val_loss: -0.2906\n",
      "Epoch 121/200\n",
      "4/4 [==============================] - 0s 9ms/step - loss: -0.5094 - val_loss: -0.3055\n",
      "Epoch 122/200\n",
      "4/4 [==============================] - 0s 8ms/step - loss: -0.5283 - val_loss: -0.3203\n",
      "Epoch 123/200\n",
      "4/4 [==============================] - 0s 8ms/step - loss: -0.5473 - val_loss: -0.3351\n",
      "Epoch 124/200\n",
      "4/4 [==============================] - 0s 9ms/step - loss: -0.5641 - val_loss: -0.3505\n",
      "Epoch 125/200\n",
      "4/4 [==============================] - 0s 9ms/step - loss: -0.5833 - val_loss: -0.3660\n",
      "Epoch 126/200\n",
      "4/4 [==============================] - 0s 10ms/step - loss: -0.6023 - val_loss: -0.3814\n",
      "Epoch 127/200\n",
      "4/4 [==============================] - 0s 8ms/step - loss: -0.6213 - val_loss: -0.3971\n",
      "Epoch 128/200\n",
      "4/4 [==============================] - 0s 8ms/step - loss: -0.6383 - val_loss: -0.4132\n",
      "Epoch 129/200\n",
      "4/4 [==============================] - 0s 8ms/step - loss: -0.6614 - val_loss: -0.4289\n",
      "Epoch 130/200\n",
      "4/4 [==============================] - 0s 9ms/step - loss: -0.6792 - val_loss: -0.4454\n",
      "Epoch 131/200\n",
      "4/4 [==============================] - 0s 9ms/step - loss: -0.6999 - val_loss: -0.4618\n",
      "Epoch 132/200\n",
      "4/4 [==============================] - 0s 9ms/step - loss: -0.7188 - val_loss: -0.4784\n",
      "Epoch 133/200\n",
      "4/4 [==============================] - 0s 8ms/step - loss: -0.7404 - val_loss: -0.4951\n",
      "Epoch 134/200\n",
      "4/4 [==============================] - 0s 9ms/step - loss: -0.7607 - val_loss: -0.5124\n",
      "Epoch 135/200\n",
      "4/4 [==============================] - 0s 9ms/step - loss: -0.7839 - val_loss: -0.5298\n",
      "Epoch 136/200\n",
      "4/4 [==============================] - 0s 10ms/step - loss: -0.8030 - val_loss: -0.5481\n",
      "Epoch 137/200\n",
      "4/4 [==============================] - 0s 9ms/step - loss: -0.8262 - val_loss: -0.5661\n",
      "Epoch 138/200\n",
      "4/4 [==============================] - 0s 8ms/step - loss: -0.8480 - val_loss: -0.5846\n",
      "Epoch 139/200\n",
      "4/4 [==============================] - 0s 9ms/step - loss: -0.8699 - val_loss: -0.6035\n",
      "Epoch 140/200\n",
      "4/4 [==============================] - 0s 9ms/step - loss: -0.8935 - val_loss: -0.6224\n",
      "Epoch 141/200\n",
      "4/4 [==============================] - 0s 8ms/step - loss: -0.9153 - val_loss: -0.6413\n",
      "Epoch 142/200\n",
      "4/4 [==============================] - 0s 8ms/step - loss: -0.9394 - val_loss: -0.6599\n",
      "Epoch 143/200\n",
      "4/4 [==============================] - 0s 9ms/step - loss: -0.9633 - val_loss: -0.6791\n",
      "Epoch 144/200\n",
      "4/4 [==============================] - 0s 9ms/step - loss: -0.9867 - val_loss: -0.6991\n",
      "Epoch 145/200\n",
      "4/4 [==============================] - 0s 8ms/step - loss: -1.0105 - val_loss: -0.7195\n",
      "Epoch 146/200\n",
      "4/4 [==============================] - 0s 10ms/step - loss: -1.0324 - val_loss: -0.7407\n",
      "Epoch 147/200\n",
      "4/4 [==============================] - 0s 8ms/step - loss: -1.0593 - val_loss: -0.7614\n",
      "Epoch 148/200\n",
      "4/4 [==============================] - 0s 9ms/step - loss: -1.0850 - val_loss: -0.7823\n",
      "Epoch 149/200\n",
      "4/4 [==============================] - 0s 9ms/step - loss: -1.1125 - val_loss: -0.8030\n",
      "Epoch 150/200\n",
      "4/4 [==============================] - 0s 8ms/step - loss: -1.1371 - val_loss: -0.8250\n",
      "Epoch 151/200\n",
      "4/4 [==============================] - 0s 8ms/step - loss: -1.1597 - val_loss: -0.8478\n",
      "Epoch 152/200\n",
      "4/4 [==============================] - 0s 9ms/step - loss: -1.1871 - val_loss: -0.8703\n",
      "Epoch 153/200\n",
      "4/4 [==============================] - 0s 9ms/step - loss: -1.2150 - val_loss: -0.8925\n",
      "Epoch 154/200\n",
      "4/4 [==============================] - 0s 8ms/step - loss: -1.2422 - val_loss: -0.9150\n",
      "Epoch 155/200\n",
      "4/4 [==============================] - 0s 10ms/step - loss: -1.2666 - val_loss: -0.9381\n",
      "Epoch 156/200\n",
      "4/4 [==============================] - 0s 7ms/step - loss: -1.2966 - val_loss: -0.9612\n",
      "Epoch 157/200\n",
      "4/4 [==============================] - 0s 7ms/step - loss: -1.3230 - val_loss: -0.9852\n",
      "Epoch 158/200\n",
      "4/4 [==============================] - 0s 8ms/step - loss: -1.3530 - val_loss: -1.0095\n",
      "Epoch 159/200\n",
      "4/4 [==============================] - 0s 7ms/step - loss: -1.3794 - val_loss: -1.0347\n",
      "Epoch 160/200\n",
      "4/4 [==============================] - 0s 7ms/step - loss: -1.4096 - val_loss: -1.0601\n",
      "Epoch 161/200\n",
      "4/4 [==============================] - 0s 8ms/step - loss: -1.4422 - val_loss: -1.0859\n",
      "Epoch 162/200\n",
      "4/4 [==============================] - 0s 7ms/step - loss: -1.4707 - val_loss: -1.1127\n",
      "Epoch 163/200\n",
      "4/4 [==============================] - 0s 7ms/step - loss: -1.5002 - val_loss: -1.1394\n",
      "Epoch 164/200\n",
      "4/4 [==============================] - 0s 7ms/step - loss: -1.5335 - val_loss: -1.1662\n",
      "Epoch 165/200\n"
     ]
    },
    {
     "name": "stdout",
     "output_type": "stream",
     "text": [
      "4/4 [==============================] - 0s 8ms/step - loss: -1.5640 - val_loss: -1.1930\n",
      "Epoch 166/200\n",
      "4/4 [==============================] - 0s 7ms/step - loss: -1.5953 - val_loss: -1.2198\n",
      "Epoch 167/200\n",
      "4/4 [==============================] - 0s 8ms/step - loss: -1.6275 - val_loss: -1.2469\n",
      "Epoch 168/200\n",
      "4/4 [==============================] - 0s 7ms/step - loss: -1.6595 - val_loss: -1.2741\n",
      "Epoch 169/200\n",
      "4/4 [==============================] - 0s 7ms/step - loss: -1.6864 - val_loss: -1.3023\n",
      "Epoch 170/200\n",
      "4/4 [==============================] - 0s 7ms/step - loss: -1.7226 - val_loss: -1.3298\n",
      "Epoch 171/200\n",
      "4/4 [==============================] - 0s 7ms/step - loss: -1.7549 - val_loss: -1.3579\n",
      "Epoch 172/200\n",
      "4/4 [==============================] - 0s 7ms/step - loss: -1.7853 - val_loss: -1.3873\n",
      "Epoch 173/200\n",
      "4/4 [==============================] - 0s 7ms/step - loss: -1.8178 - val_loss: -1.4173\n",
      "Epoch 174/200\n",
      "4/4 [==============================] - 0s 7ms/step - loss: -1.8530 - val_loss: -1.4473\n",
      "Epoch 175/200\n",
      "4/4 [==============================] - 0s 8ms/step - loss: -1.8892 - val_loss: -1.4776\n",
      "Epoch 176/200\n",
      "4/4 [==============================] - 0s 7ms/step - loss: -1.9233 - val_loss: -1.5081\n",
      "Epoch 177/200\n",
      "4/4 [==============================] - 0s 7ms/step - loss: -1.9585 - val_loss: -1.5390\n",
      "Epoch 178/200\n",
      "4/4 [==============================] - 0s 7ms/step - loss: -1.9938 - val_loss: -1.5700\n",
      "Epoch 179/200\n",
      "4/4 [==============================] - 0s 7ms/step - loss: -2.0317 - val_loss: -1.6013\n",
      "Epoch 180/200\n",
      "4/4 [==============================] - 0s 7ms/step - loss: -2.0650 - val_loss: -1.6347\n",
      "Epoch 181/200\n",
      "4/4 [==============================] - 0s 7ms/step - loss: -2.1033 - val_loss: -1.6679\n",
      "Epoch 182/200\n",
      "4/4 [==============================] - 0s 7ms/step - loss: -2.1422 - val_loss: -1.7011\n",
      "Epoch 183/200\n",
      "4/4 [==============================] - 0s 8ms/step - loss: -2.1812 - val_loss: -1.7350\n",
      "Epoch 184/200\n",
      "4/4 [==============================] - 0s 9ms/step - loss: -2.2181 - val_loss: -1.7707\n",
      "Epoch 185/200\n",
      "4/4 [==============================] - 1s 136ms/step - loss: -2.2610 - val_loss: -1.8065\n",
      "Epoch 186/200\n",
      "4/4 [==============================] - 0s 7ms/step - loss: -2.3031 - val_loss: -1.8432\n",
      "Epoch 187/200\n",
      "4/4 [==============================] - 0s 7ms/step - loss: -2.3451 - val_loss: -1.8806\n",
      "Epoch 188/200\n",
      "4/4 [==============================] - 0s 7ms/step - loss: -2.3886 - val_loss: -1.9187\n",
      "Epoch 189/200\n",
      "4/4 [==============================] - 0s 7ms/step - loss: -2.4290 - val_loss: -1.9574\n",
      "Epoch 190/200\n",
      "4/4 [==============================] - 0s 7ms/step - loss: -2.4756 - val_loss: -1.9952\n",
      "Epoch 191/200\n",
      "4/4 [==============================] - 0s 7ms/step - loss: -2.5184 - val_loss: -2.0338\n",
      "Epoch 192/200\n",
      "4/4 [==============================] - 0s 9ms/step - loss: -2.5619 - val_loss: -2.0735\n",
      "Epoch 193/200\n",
      "4/4 [==============================] - 0s 8ms/step - loss: -2.6068 - val_loss: -2.1133\n",
      "Epoch 194/200\n",
      "4/4 [==============================] - 0s 11ms/step - loss: -2.6517 - val_loss: -2.1533\n",
      "Epoch 195/200\n",
      "4/4 [==============================] - 0s 8ms/step - loss: -2.7008 - val_loss: -2.1937\n",
      "Epoch 196/200\n",
      "4/4 [==============================] - 0s 9ms/step - loss: -2.7416 - val_loss: -2.2356\n",
      "Epoch 197/200\n",
      "4/4 [==============================] - 0s 8ms/step - loss: -2.7943 - val_loss: -2.2765\n",
      "Epoch 198/200\n",
      "4/4 [==============================] - 0s 8ms/step - loss: -2.8415 - val_loss: -2.3188\n",
      "Epoch 199/200\n",
      "4/4 [==============================] - 0s 8ms/step - loss: -2.8885 - val_loss: -2.3628\n",
      "Epoch 200/200\n",
      "4/4 [==============================] - 0s 8ms/step - loss: -2.9375 - val_loss: -2.4070\n"
     ]
    },
    {
     "data": {
      "text/plain": [
       "<tensorflow.python.keras.callbacks.History at 0x7fe60fbede50>"
      ]
     },
     "execution_count": 101,
     "metadata": {},
     "output_type": "execute_result"
    }
   ],
   "source": [
    "model.fit(x=X_train, y=y_train, epochs=200, validation_data=(X_test,y_test), callbacks=[early_stop])"
   ]
  },
  {
   "cell_type": "code",
   "execution_count": 102,
   "metadata": {},
   "outputs": [],
   "source": [
    "es_losses = pd.DataFrame(model.history.history)"
   ]
  },
  {
   "cell_type": "code",
   "execution_count": 30,
   "metadata": {},
   "outputs": [
    {
     "data": {
      "text/plain": [
       "<matplotlib.axes._subplots.AxesSubplot at 0x7fad71c13850>"
      ]
     },
     "execution_count": 30,
     "metadata": {},
     "output_type": "execute_result"
    },
    {
     "data": {
      "image/png": "[encoded data removed]",
      "text/plain": [
       "<Figure size 432x288 with 1 Axes>"
      ]
     },
     "metadata": {
      "needs_background": "light"
     },
     "output_type": "display_data"
    }
   ],
   "source": [
    "losses.plot()"
   ]
  },
  {
   "cell_type": "code",
   "execution_count": null,
   "metadata": {},
   "outputs": [],
   "source": [
    "predictions = model.predict_classes(X_test)"
   ]
  },
  {
   "cell_type": "code",
   "execution_count": null,
   "metadata": {},
   "outputs": [],
   "source": [
    "print(classification_report(y_test, predictions))"
   ]
  },
  {
   "cell_type": "code",
   "execution_count": null,
   "metadata": {},
   "outputs": [],
   "source": []
  },
  {
   "cell_type": "markdown",
   "metadata": {},
   "source": [
    "### Dropout Layers"
   ]
  },
  {
   "cell_type": "code",
   "execution_count": 106,
   "metadata": {},
   "outputs": [],
   "source": [
    "model = Sequential()\n",
    "model.add(Dense(4, activation='relu'))\n",
    "model.add(Dropout(0.5)) # 1 means 100% of neurons are going to be turn off randomly\n",
    "\n",
    "model.add(Dense(2, activation='relu'))\n",
    "model.add(Dropout(0.5))\n",
    "# BINARY CLASSIFICATION\n",
    "model.add(Dense(1, activation='sigmoid'))\n",
    "model.compile(loss='binary_crossentropy', optimizer='adam')"
   ]
  },
  {
   "cell_type": "code",
   "execution_count": 107,
   "metadata": {},
   "outputs": [],
   "source": [
    "from tensorflow.keras.layers import Dropout"
   ]
  },
  {
   "cell_type": "code",
   "execution_count": 108,
   "metadata": {},
   "outputs": [
    {
     "name": "stdout",
     "output_type": "stream",
     "text": [
      "Epoch 1/200\n",
      "4/4 [==============================] - 0s 20ms/step - loss: 0.6902 - val_loss: 0.6916\n",
      "Epoch 2/200\n",
      "4/4 [==============================] - 0s 8ms/step - loss: 0.6873 - val_loss: 0.6901\n",
      "Epoch 3/200\n",
      "4/4 [==============================] - 0s 8ms/step - loss: 0.6845 - val_loss: 0.6886\n",
      "Epoch 4/200\n",
      "4/4 [==============================] - 0s 8ms/step - loss: 0.6847 - val_loss: 0.6871\n",
      "Epoch 5/200\n",
      "4/4 [==============================] - 0s 8ms/step - loss: 0.6809 - val_loss: 0.6856\n",
      "Epoch 6/200\n",
      "4/4 [==============================] - 0s 7ms/step - loss: 0.6755 - val_loss: 0.6842\n",
      "Epoch 7/200\n",
      "4/4 [==============================] - 0s 7ms/step - loss: 0.6766 - val_loss: 0.6827\n",
      "Epoch 8/200\n",
      "4/4 [==============================] - 0s 7ms/step - loss: 0.6665 - val_loss: 0.6811\n",
      "Epoch 9/200\n",
      "4/4 [==============================] - 0s 12ms/step - loss: 0.6679 - val_loss: 0.6791\n",
      "Epoch 10/200\n",
      "4/4 [==============================] - 0s 7ms/step - loss: 0.6636 - val_loss: 0.6768\n",
      "Epoch 11/200\n",
      "4/4 [==============================] - 0s 9ms/step - loss: 0.6602 - val_loss: 0.6744\n",
      "Epoch 12/200\n",
      "4/4 [==============================] - 0s 9ms/step - loss: 0.6567 - val_loss: 0.6719\n",
      "Epoch 13/200\n",
      "4/4 [==============================] - 0s 9ms/step - loss: 0.6572 - val_loss: 0.6693\n",
      "Epoch 14/200\n",
      "4/4 [==============================] - 0s 9ms/step - loss: 0.6493 - val_loss: 0.6665\n",
      "Epoch 15/200\n",
      "4/4 [==============================] - 0s 8ms/step - loss: 0.6454 - val_loss: 0.6633\n",
      "Epoch 16/200\n",
      "4/4 [==============================] - 0s 7ms/step - loss: 0.6471 - val_loss: 0.6600\n",
      "Epoch 17/200\n",
      "4/4 [==============================] - 0s 7ms/step - loss: 0.6171 - val_loss: 0.6566\n",
      "Epoch 18/200\n",
      "4/4 [==============================] - 0s 7ms/step - loss: 0.6354 - val_loss: 0.6528\n",
      "Epoch 19/200\n",
      "4/4 [==============================] - 0s 10ms/step - loss: 0.6172 - val_loss: 0.6489\n",
      "Epoch 20/200\n",
      "4/4 [==============================] - 0s 9ms/step - loss: 0.6093 - val_loss: 0.6447\n",
      "Epoch 21/200\n",
      "4/4 [==============================] - 0s 8ms/step - loss: 0.6230 - val_loss: 0.6404\n",
      "Epoch 22/200\n",
      "4/4 [==============================] - 0s 8ms/step - loss: 0.6109 - val_loss: 0.6361\n",
      "Epoch 23/200\n",
      "4/4 [==============================] - 0s 8ms/step - loss: 0.5867 - val_loss: 0.6317\n",
      "Epoch 24/200\n",
      "4/4 [==============================] - 0s 8ms/step - loss: 0.5973 - val_loss: 0.6270\n",
      "Epoch 25/200\n",
      "4/4 [==============================] - 0s 7ms/step - loss: 0.5849 - val_loss: 0.6221\n",
      "Epoch 26/200\n",
      "4/4 [==============================] - 0s 7ms/step - loss: 0.5587 - val_loss: 0.6166\n",
      "Epoch 27/200\n",
      "4/4 [==============================] - 0s 7ms/step - loss: 0.5608 - val_loss: 0.6109\n",
      "Epoch 28/200\n",
      "4/4 [==============================] - 0s 9ms/step - loss: 0.5599 - val_loss: 0.6055\n",
      "Epoch 29/200\n",
      "4/4 [==============================] - 0s 8ms/step - loss: 0.5555 - val_loss: 0.5998\n",
      "Epoch 30/200\n",
      "4/4 [==============================] - 0s 7ms/step - loss: 0.5661 - val_loss: 0.5939\n",
      "Epoch 31/200\n",
      "4/4 [==============================] - 0s 8ms/step - loss: 0.5169 - val_loss: 0.5879\n",
      "Epoch 32/200\n",
      "4/4 [==============================] - 0s 7ms/step - loss: 0.5204 - val_loss: 0.5817\n",
      "Epoch 33/200\n",
      "4/4 [==============================] - 0s 7ms/step - loss: 0.4984 - val_loss: 0.5744\n",
      "Epoch 34/200\n",
      "4/4 [==============================] - 0s 7ms/step - loss: 0.4991 - val_loss: 0.5668\n",
      "Epoch 35/200\n",
      "4/4 [==============================] - 0s 7ms/step - loss: 0.4944 - val_loss: 0.5593\n",
      "Epoch 36/200\n",
      "4/4 [==============================] - 0s 7ms/step - loss: 0.5523 - val_loss: 0.5525\n",
      "Epoch 37/200\n",
      "4/4 [==============================] - 0s 7ms/step - loss: 0.4478 - val_loss: 0.5458\n",
      "Epoch 38/200\n",
      "4/4 [==============================] - 0s 9ms/step - loss: 0.4205 - val_loss: 0.5382\n",
      "Epoch 39/200\n",
      "4/4 [==============================] - 0s 7ms/step - loss: 0.4256 - val_loss: 0.5296\n",
      "Epoch 40/200\n",
      "4/4 [==============================] - 0s 7ms/step - loss: 0.4936 - val_loss: 0.5211\n",
      "Epoch 41/200\n",
      "4/4 [==============================] - 0s 7ms/step - loss: 0.4189 - val_loss: 0.5124\n",
      "Epoch 42/200\n",
      "4/4 [==============================] - 0s 7ms/step - loss: 0.4054 - val_loss: 0.5031\n",
      "Epoch 43/200\n",
      "4/4 [==============================] - 0s 7ms/step - loss: 0.3901 - val_loss: 0.4948\n",
      "Epoch 44/200\n",
      "4/4 [==============================] - 0s 7ms/step - loss: 0.4243 - val_loss: 0.4864\n",
      "Epoch 45/200\n",
      "4/4 [==============================] - 0s 7ms/step - loss: 0.3633 - val_loss: 0.4778\n",
      "Epoch 46/200\n",
      "4/4 [==============================] - 0s 7ms/step - loss: 0.3964 - val_loss: 0.4687\n",
      "Epoch 47/200\n",
      "4/4 [==============================] - 0s 8ms/step - loss: 0.3720 - val_loss: 0.4591\n",
      "Epoch 48/200\n",
      "4/4 [==============================] - 0s 9ms/step - loss: 0.3686 - val_loss: 0.4500\n",
      "Epoch 49/200\n",
      "4/4 [==============================] - 0s 7ms/step - loss: 0.3208 - val_loss: 0.4408\n",
      "Epoch 50/200\n",
      "4/4 [==============================] - 0s 7ms/step - loss: 0.3772 - val_loss: 0.4320\n",
      "Epoch 51/200\n",
      "4/4 [==============================] - 0s 7ms/step - loss: 0.3012 - val_loss: 0.4233\n",
      "Epoch 52/200\n",
      "4/4 [==============================] - 0s 7ms/step - loss: 0.2511 - val_loss: 0.4136\n",
      "Epoch 53/200\n",
      "4/4 [==============================] - 0s 7ms/step - loss: 0.2141 - val_loss: 0.4030\n",
      "Epoch 54/200\n",
      "4/4 [==============================] - 0s 7ms/step - loss: 0.3259 - val_loss: 0.3932\n",
      "Epoch 55/200\n",
      "4/4 [==============================] - 0s 7ms/step - loss: 0.2802 - val_loss: 0.3834\n",
      "Epoch 56/200\n",
      "4/4 [==============================] - 0s 7ms/step - loss: 0.2361 - val_loss: 0.3741\n",
      "Epoch 57/200\n",
      "4/4 [==============================] - 0s 8ms/step - loss: 0.2467 - val_loss: 0.3644\n",
      "Epoch 58/200\n",
      "4/4 [==============================] - 0s 7ms/step - loss: 0.2995 - val_loss: 0.3555\n",
      "Epoch 59/200\n",
      "4/4 [==============================] - 0s 7ms/step - loss: 0.2840 - val_loss: 0.3465\n",
      "Epoch 60/200\n",
      "4/4 [==============================] - 0s 7ms/step - loss: 0.2785 - val_loss: 0.3372\n",
      "Epoch 61/200\n",
      "4/4 [==============================] - 0s 7ms/step - loss: 0.2009 - val_loss: 0.3276\n",
      "Epoch 62/200\n",
      "4/4 [==============================] - 0s 7ms/step - loss: 0.2312 - val_loss: 0.3174\n",
      "Epoch 63/200\n",
      "4/4 [==============================] - 0s 7ms/step - loss: 0.1642 - val_loss: 0.3070\n",
      "Epoch 64/200\n",
      "4/4 [==============================] - 0s 7ms/step - loss: 0.1501 - val_loss: 0.2959\n",
      "Epoch 65/200\n",
      "4/4 [==============================] - 0s 7ms/step - loss: 0.2421 - val_loss: 0.2856\n",
      "Epoch 66/200\n",
      "4/4 [==============================] - 0s 7ms/step - loss: 0.2009 - val_loss: 0.2757\n",
      "Epoch 67/200\n",
      "4/4 [==============================] - 0s 8ms/step - loss: 0.2080 - val_loss: 0.2650\n",
      "Epoch 68/200\n",
      "4/4 [==============================] - 0s 7ms/step - loss: 0.0787 - val_loss: 0.2542\n",
      "Epoch 69/200\n",
      "4/4 [==============================] - 0s 7ms/step - loss: 0.2127 - val_loss: 0.2437\n",
      "Epoch 70/200\n",
      "4/4 [==============================] - 0s 7ms/step - loss: 0.0846 - val_loss: 0.2333\n",
      "Epoch 71/200\n",
      "4/4 [==============================] - 0s 7ms/step - loss: 0.0826 - val_loss: 0.2225\n",
      "Epoch 72/200\n",
      "4/4 [==============================] - 0s 7ms/step - loss: 0.1488 - val_loss: 0.2122\n",
      "Epoch 73/200\n",
      "4/4 [==============================] - 0s 7ms/step - loss: 0.1925 - val_loss: 0.2020\n",
      "Epoch 74/200\n",
      "4/4 [==============================] - 0s 7ms/step - loss: 0.0137 - val_loss: 0.1916\n",
      "Epoch 75/200\n",
      "4/4 [==============================] - 0s 7ms/step - loss: 0.0199 - val_loss: 0.1800\n",
      "Epoch 76/200\n",
      "4/4 [==============================] - 0s 8ms/step - loss: 0.0721 - val_loss: 0.1674\n",
      "Epoch 77/200\n",
      "4/4 [==============================] - 0s 7ms/step - loss: 0.1738 - val_loss: 0.1553\n",
      "Epoch 78/200\n",
      "4/4 [==============================] - 0s 7ms/step - loss: 0.0480 - val_loss: 0.1437\n",
      "Epoch 79/200\n",
      "4/4 [==============================] - 0s 7ms/step - loss: -0.0536 - val_loss: 0.1316\n",
      "Epoch 80/200\n",
      "4/4 [==============================] - 0s 7ms/step - loss: -0.0273 - val_loss: 0.1194\n",
      "Epoch 81/200\n",
      "4/4 [==============================] - 0s 7ms/step - loss: -0.1190 - val_loss: 0.1075\n",
      "Epoch 82/200\n",
      "4/4 [==============================] - 0s 7ms/step - loss: 0.1521 - val_loss: 0.0968\n",
      "Epoch 83/200\n",
      "4/4 [==============================] - 0s 7ms/step - loss: 0.0504 - val_loss: 0.0862\n",
      "Epoch 84/200\n",
      "4/4 [==============================] - 0s 7ms/step - loss: -0.0665 - val_loss: 0.0751\n",
      "Epoch 85/200\n",
      "4/4 [==============================] - 0s 7ms/step - loss: -0.0284 - val_loss: 0.0632\n",
      "Epoch 86/200\n",
      "4/4 [==============================] - 0s 8ms/step - loss: 0.0638 - val_loss: 0.0523\n",
      "Epoch 87/200\n",
      "4/4 [==============================] - 0s 7ms/step - loss: 0.0713 - val_loss: 0.0419\n",
      "Epoch 88/200\n",
      "4/4 [==============================] - 0s 7ms/step - loss: -0.1816 - val_loss: 0.0303\n",
      "Epoch 89/200\n",
      "4/4 [==============================] - 0s 7ms/step - loss: -0.2171 - val_loss: 0.0167\n",
      "Epoch 90/200\n",
      "4/4 [==============================] - 0s 7ms/step - loss: -0.2879 - val_loss: 0.0027\n",
      "Epoch 91/200\n",
      "4/4 [==============================] - 0s 7ms/step - loss: 0.1496 - val_loss: -0.0097\n",
      "Epoch 92/200\n",
      "4/4 [==============================] - 0s 7ms/step - loss: -0.4712 - val_loss: -0.0230\n",
      "Epoch 93/200\n",
      "4/4 [==============================] - 0s 7ms/step - loss: -0.1004 - val_loss: -0.0372\n",
      "Epoch 94/200\n",
      "4/4 [==============================] - 0s 7ms/step - loss: -0.1948 - val_loss: -0.0504\n",
      "Epoch 95/200\n",
      "4/4 [==============================] - 0s 8ms/step - loss: -0.1581 - val_loss: -0.0645\n",
      "Epoch 96/200\n",
      "4/4 [==============================] - 0s 7ms/step - loss: 0.0381 - val_loss: -0.0779\n",
      "Epoch 97/200\n",
      "4/4 [==============================] - 0s 7ms/step - loss: -0.1996 - val_loss: -0.0915\n",
      "Epoch 98/200\n",
      "4/4 [==============================] - 0s 7ms/step - loss: -0.6087 - val_loss: -0.1061\n",
      "Epoch 99/200\n",
      "4/4 [==============================] - 0s 7ms/step - loss: 0.0764 - val_loss: -0.1196\n",
      "Epoch 100/200\n",
      "4/4 [==============================] - 0s 6ms/step - loss: -0.3688 - val_loss: -0.1327\n",
      "Epoch 101/200\n",
      "4/4 [==============================] - 0s 7ms/step - loss: -0.1536 - val_loss: -0.1454\n",
      "Epoch 102/200\n",
      "4/4 [==============================] - 0s 7ms/step - loss: -0.5205 - val_loss: -0.1592\n",
      "Epoch 103/200\n",
      "4/4 [==============================] - 0s 7ms/step - loss: -0.3201 - val_loss: -0.1745\n",
      "Epoch 104/200\n",
      "4/4 [==============================] - 0s 7ms/step - loss: -0.5176 - val_loss: -0.1902\n",
      "Epoch 105/200\n",
      "4/4 [==============================] - 0s 8ms/step - loss: -0.5318 - val_loss: -0.2057\n",
      "Epoch 106/200\n",
      "4/4 [==============================] - 0s 7ms/step - loss: -0.2151 - val_loss: -0.2207\n",
      "Epoch 107/200\n",
      "4/4 [==============================] - 0s 8ms/step - loss: -0.3694 - val_loss: -0.2359\n",
      "Epoch 108/200\n",
      "4/4 [==============================] - 0s 9ms/step - loss: -0.7526 - val_loss: -0.2515\n",
      "Epoch 109/200\n",
      "4/4 [==============================] - 0s 9ms/step - loss: -0.1974 - val_loss: -0.2675\n",
      "Epoch 110/200\n",
      "4/4 [==============================] - 0s 7ms/step - loss: -0.3047 - val_loss: -0.2800\n",
      "Epoch 111/200\n",
      "4/4 [==============================] - 0s 9ms/step - loss: -0.4716 - val_loss: -0.2941\n",
      "Epoch 112/200\n",
      "4/4 [==============================] - 0s 10ms/step - loss: -0.6079 - val_loss: -0.3090\n",
      "Epoch 113/200\n",
      "4/4 [==============================] - 0s 10ms/step - loss: -0.5354 - val_loss: -0.3243\n",
      "Epoch 114/200\n",
      "4/4 [==============================] - 0s 9ms/step - loss: -0.5351 - val_loss: -0.3395\n",
      "Epoch 115/200\n",
      "4/4 [==============================] - 0s 7ms/step - loss: -0.9055 - val_loss: -0.3563\n",
      "Epoch 116/200\n",
      "4/4 [==============================] - 0s 7ms/step - loss: -0.5696 - val_loss: -0.3734\n",
      "Epoch 117/200\n",
      "4/4 [==============================] - 0s 8ms/step - loss: -0.2876 - val_loss: -0.3891\n",
      "Epoch 118/200\n",
      "4/4 [==============================] - 0s 8ms/step - loss: -0.7023 - val_loss: -0.4043\n",
      "Epoch 119/200\n",
      "4/4 [==============================] - 0s 8ms/step - loss: -0.0851 - val_loss: -0.4164\n",
      "Epoch 120/200\n",
      "4/4 [==============================] - 0s 7ms/step - loss: -0.4253 - val_loss: -0.4278\n",
      "Epoch 121/200\n",
      "4/4 [==============================] - 0s 7ms/step - loss: -0.4179 - val_loss: -0.4400\n",
      "Epoch 122/200\n",
      "4/4 [==============================] - 0s 7ms/step - loss: -0.6921 - val_loss: -0.4537\n",
      "Epoch 123/200\n",
      "4/4 [==============================] - 0s 8ms/step - loss: -0.6755 - val_loss: -0.4702\n",
      "Epoch 124/200\n",
      "4/4 [==============================] - 0s 10ms/step - loss: -0.6523 - val_loss: -0.4858\n",
      "Epoch 125/200\n",
      "4/4 [==============================] - 0s 8ms/step - loss: -0.8551 - val_loss: -0.4998\n",
      "Epoch 126/200\n",
      "4/4 [==============================] - 0s 8ms/step - loss: -0.6303 - val_loss: -0.5154\n",
      "Epoch 127/200\n",
      "4/4 [==============================] - 0s 8ms/step - loss: -1.0286 - val_loss: -0.5320\n",
      "Epoch 128/200\n",
      "4/4 [==============================] - 0s 8ms/step - loss: -1.1505 - val_loss: -0.5482\n",
      "Epoch 129/200\n",
      "4/4 [==============================] - 0s 8ms/step - loss: -0.7881 - val_loss: -0.5649\n",
      "Epoch 130/200\n",
      "4/4 [==============================] - 0s 8ms/step - loss: -0.2832 - val_loss: -0.5796\n",
      "Epoch 131/200\n",
      "4/4 [==============================] - 0s 7ms/step - loss: -1.5001 - val_loss: -0.5960\n",
      "Epoch 132/200\n",
      "4/4 [==============================] - 0s 7ms/step - loss: -1.5661 - val_loss: -0.6138\n",
      "Epoch 133/200\n",
      "4/4 [==============================] - 0s 7ms/step - loss: -0.6761 - val_loss: -0.6305\n",
      "Epoch 134/200\n",
      "4/4 [==============================] - 0s 10ms/step - loss: -0.9561 - val_loss: -0.6458\n",
      "Epoch 135/200\n",
      "4/4 [==============================] - 0s 8ms/step - loss: -0.6686 - val_loss: -0.6609\n",
      "Epoch 136/200\n",
      "4/4 [==============================] - 0s 9ms/step - loss: -0.4811 - val_loss: -0.6768\n",
      "Epoch 137/200\n",
      "4/4 [==============================] - 0s 9ms/step - loss: -0.6585 - val_loss: -0.6920\n",
      "Epoch 138/200\n",
      "4/4 [==============================] - 0s 9ms/step - loss: -1.5044 - val_loss: -0.7083\n",
      "Epoch 139/200\n",
      "4/4 [==============================] - 0s 10ms/step - loss: -0.8507 - val_loss: -0.7261\n",
      "Epoch 140/200\n",
      "4/4 [==============================] - 0s 7ms/step - loss: -1.1083 - val_loss: -0.7432\n",
      "Epoch 141/200\n",
      "4/4 [==============================] - 0s 8ms/step - loss: -1.4349 - val_loss: -0.7618\n",
      "Epoch 142/200\n",
      "4/4 [==============================] - 0s 8ms/step - loss: -1.5367 - val_loss: -0.7825\n",
      "Epoch 143/200\n",
      "4/4 [==============================] - 0s 10ms/step - loss: -1.1937 - val_loss: -0.8028\n",
      "Epoch 144/200\n",
      "4/4 [==============================] - 0s 8ms/step - loss: -0.8453 - val_loss: -0.8214\n",
      "Epoch 145/200\n",
      "4/4 [==============================] - 0s 8ms/step - loss: -1.2316 - val_loss: -0.8382\n",
      "Epoch 146/200\n",
      "4/4 [==============================] - 0s 9ms/step - loss: -0.8673 - val_loss: -0.8546\n",
      "Epoch 147/200\n",
      "4/4 [==============================] - 0s 8ms/step - loss: -1.5293 - val_loss: -0.8707\n",
      "Epoch 148/200\n",
      "4/4 [==============================] - 0s 8ms/step - loss: -1.7151 - val_loss: -0.8901\n",
      "Epoch 149/200\n",
      "4/4 [==============================] - 0s 8ms/step - loss: -1.0681 - val_loss: -0.9106\n",
      "Epoch 150/200\n",
      "4/4 [==============================] - 0s 8ms/step - loss: -1.0836 - val_loss: -0.9310\n",
      "Epoch 151/200\n",
      "4/4 [==============================] - 0s 8ms/step - loss: -1.0981 - val_loss: -0.9513\n",
      "Epoch 152/200\n",
      "4/4 [==============================] - 0s 8ms/step - loss: -2.1006 - val_loss: -0.9728\n",
      "Epoch 153/200\n",
      "4/4 [==============================] - 0s 10ms/step - loss: -2.0250 - val_loss: -0.9964\n",
      "Epoch 154/200\n",
      "4/4 [==============================] - 0s 7ms/step - loss: -2.3666 - val_loss: -1.0223\n",
      "Epoch 155/200\n",
      "4/4 [==============================] - 0s 8ms/step - loss: -1.3528 - val_loss: -1.0487\n",
      "Epoch 156/200\n",
      "4/4 [==============================] - 0s 8ms/step - loss: -1.2737 - val_loss: -1.0732\n",
      "Epoch 157/200\n",
      "4/4 [==============================] - 0s 8ms/step - loss: -1.9851 - val_loss: -1.0978\n",
      "Epoch 158/200\n",
      "4/4 [==============================] - 0s 7ms/step - loss: -1.6760 - val_loss: -1.1238\n",
      "Epoch 159/200\n",
      "4/4 [==============================] - 0s 7ms/step - loss: -1.6564 - val_loss: -1.1498\n",
      "Epoch 160/200\n",
      "4/4 [==============================] - 0s 8ms/step - loss: -2.4593 - val_loss: -1.1791\n",
      "Epoch 161/200\n",
      "4/4 [==============================] - 0s 7ms/step - loss: -1.9462 - val_loss: -1.2062\n",
      "Epoch 162/200\n",
      "4/4 [==============================] - 0s 10ms/step - loss: -2.2247 - val_loss: -1.2343\n",
      "Epoch 163/200\n",
      "4/4 [==============================] - 0s 7ms/step - loss: -1.2790 - val_loss: -1.2606\n",
      "Epoch 164/200\n",
      "4/4 [==============================] - 0s 11ms/step - loss: -2.2396 - val_loss: -1.2871\n",
      "Epoch 165/200\n"
     ]
    },
    {
     "name": "stdout",
     "output_type": "stream",
     "text": [
      "4/4 [==============================] - 0s 10ms/step - loss: -1.4656 - val_loss: -1.3137\n",
      "Epoch 166/200\n",
      "4/4 [==============================] - 0s 9ms/step - loss: -1.0630 - val_loss: -1.3374\n",
      "Epoch 167/200\n",
      "4/4 [==============================] - 0s 10ms/step - loss: -1.7092 - val_loss: -1.3610\n",
      "Epoch 168/200\n",
      "4/4 [==============================] - 0s 10ms/step - loss: -1.8919 - val_loss: -1.3857\n",
      "Epoch 169/200\n",
      "4/4 [==============================] - 0s 9ms/step - loss: -2.1529 - val_loss: -1.4104\n",
      "Epoch 170/200\n",
      "4/4 [==============================] - 0s 9ms/step - loss: -2.7012 - val_loss: -1.4387\n",
      "Epoch 171/200\n",
      "4/4 [==============================] - 0s 10ms/step - loss: -1.1071 - val_loss: -1.4650\n",
      "Epoch 172/200\n",
      "4/4 [==============================] - 0s 13ms/step - loss: -2.0793 - val_loss: -1.4909\n",
      "Epoch 173/200\n",
      "4/4 [==============================] - 0s 9ms/step - loss: -1.9796 - val_loss: -1.5171\n",
      "Epoch 174/200\n",
      "4/4 [==============================] - 0s 8ms/step - loss: -3.0799 - val_loss: -1.5446\n",
      "Epoch 175/200\n",
      "4/4 [==============================] - 0s 7ms/step - loss: -1.6823 - val_loss: -1.5718\n",
      "Epoch 176/200\n",
      "4/4 [==============================] - 0s 8ms/step - loss: -1.5857 - val_loss: -1.5973\n",
      "Epoch 177/200\n",
      "4/4 [==============================] - 0s 8ms/step - loss: -2.8340 - val_loss: -1.6223\n",
      "Epoch 178/200\n",
      "4/4 [==============================] - 0s 8ms/step - loss: -2.8398 - val_loss: -1.6496\n",
      "Epoch 179/200\n",
      "4/4 [==============================] - 0s 8ms/step - loss: -2.2505 - val_loss: -1.6752\n",
      "Epoch 180/200\n",
      "4/4 [==============================] - 0s 8ms/step - loss: -2.3956 - val_loss: -1.6993\n",
      "Epoch 181/200\n",
      "4/4 [==============================] - 0s 9ms/step - loss: -1.9267 - val_loss: -1.7245\n",
      "Epoch 182/200\n",
      "4/4 [==============================] - 0s 7ms/step - loss: -2.9619 - val_loss: -1.7502\n",
      "Epoch 183/200\n",
      "4/4 [==============================] - 0s 7ms/step - loss: -1.6904 - val_loss: -1.7777\n",
      "Epoch 184/200\n",
      "4/4 [==============================] - 0s 7ms/step - loss: -2.3916 - val_loss: -1.8068\n",
      "Epoch 185/200\n",
      "4/4 [==============================] - 0s 8ms/step - loss: -3.1660 - val_loss: -1.8481\n",
      "Epoch 186/200\n",
      "4/4 [==============================] - 0s 7ms/step - loss: -1.4852 - val_loss: -1.8944\n",
      "Epoch 187/200\n",
      "4/4 [==============================] - 0s 7ms/step - loss: -2.4920 - val_loss: -1.9455\n",
      "Epoch 188/200\n",
      "4/4 [==============================] - 0s 7ms/step - loss: -2.4969 - val_loss: -1.9941\n",
      "Epoch 189/200\n",
      "4/4 [==============================] - 0s 8ms/step - loss: -2.2145 - val_loss: -2.0431\n",
      "Epoch 190/200\n",
      "4/4 [==============================] - 0s 8ms/step - loss: -3.8938 - val_loss: -2.0962\n",
      "Epoch 191/200\n",
      "4/4 [==============================] - 0s 9ms/step - loss: -2.3108 - val_loss: -2.1480\n",
      "Epoch 192/200\n",
      "4/4 [==============================] - 0s 8ms/step - loss: -2.7949 - val_loss: -2.1993\n",
      "Epoch 193/200\n",
      "4/4 [==============================] - 0s 7ms/step - loss: -3.6187 - val_loss: -2.2597\n",
      "Epoch 194/200\n",
      "4/4 [==============================] - 0s 8ms/step - loss: -3.8249 - val_loss: -2.3243\n",
      "Epoch 195/200\n",
      "4/4 [==============================] - 0s 7ms/step - loss: -3.4002 - val_loss: -2.3893\n",
      "Epoch 196/200\n",
      "4/4 [==============================] - 0s 8ms/step - loss: -2.2721 - val_loss: -2.4496\n",
      "Epoch 197/200\n",
      "4/4 [==============================] - 0s 7ms/step - loss: -5.7020 - val_loss: -2.5132\n",
      "Epoch 198/200\n",
      "4/4 [==============================] - 0s 7ms/step - loss: -2.4378 - val_loss: -2.5791\n",
      "Epoch 199/200\n",
      "4/4 [==============================] - 0s 8ms/step - loss: -3.6760 - val_loss: -2.6384\n",
      "Epoch 200/200\n",
      "4/4 [==============================] - 0s 7ms/step - loss: -2.8506 - val_loss: -2.6955\n"
     ]
    },
    {
     "data": {
      "text/plain": [
       "<tensorflow.python.keras.callbacks.History at 0x7fe60d90d670>"
      ]
     },
     "execution_count": 108,
     "metadata": {},
     "output_type": "execute_result"
    }
   ],
   "source": [
    "model.fit(x=X_train, y=y_train, epochs=200, validation_data=(X_test,y_test), callbacks=[early_stop])"
   ]
  },
  {
   "cell_type": "code",
   "execution_count": 109,
   "metadata": {},
   "outputs": [],
   "source": [
    "model_dl_loss = pd.DataFrame(model.history.history)"
   ]
  },
  {
   "cell_type": "code",
   "execution_count": 111,
   "metadata": {},
   "outputs": [
    {
     "data": {
      "text/plain": [
       "<matplotlib.axes._subplots.AxesSubplot at 0x7fe6100cde50>"
      ]
     },
     "execution_count": 111,
     "metadata": {},
     "output_type": "execute_result"
    },
    {
     "data": {
      "image/png": "[encoded data removed]",
      "text/plain": [
       "<Figure size 432x288 with 1 Axes>"
      ]
     },
     "metadata": {
      "needs_background": "light"
     },
     "output_type": "display_data"
    }
   ],
   "source": [
    "model_dl_loss.plot()"
   ]
  },
  {
   "cell_type": "code",
   "execution_count": 112,
   "metadata": {},
   "outputs": [],
   "source": [
    "predictions = model.predict_classes(X_test)"
   ]
  },
  {
   "cell_type": "code",
   "execution_count": 114,
   "metadata": {},
   "outputs": [
    {
     "name": "stdout",
     "output_type": "stream",
     "text": [
      "              precision    recall  f1-score   support\n",
      "\n",
      "           0       0.00      0.00      0.00        15\n",
      "           1       0.29      1.00      0.45        11\n",
      "           2       0.00      0.00      0.00        12\n",
      "\n",
      "    accuracy                           0.29        38\n",
      "   macro avg       0.10      0.33      0.15        38\n",
      "weighted avg       0.08      0.29      0.13        38\n",
      "\n"
     ]
    }
   ],
   "source": [
    "print(classification_report(y_test, predictions))"
   ]
  },
  {
   "cell_type": "code",
   "execution_count": 115,
   "metadata": {},
   "outputs": [
    {
     "name": "stdout",
     "output_type": "stream",
     "text": [
      "[[ 0 15  0]\n",
      " [ 0 11  0]\n",
      " [ 0 12  0]]\n"
     ]
    }
   ],
   "source": [
    "print(confusion_matrix(y_test,predictions))"
   ]
  }
 ],
 "metadata": {
  "kernelspec": {
   "display_name": "Python 3.8.1 64-bit",
   "language": "python",
   "name": "python38164bit858a6f91643b4c6eb3e3df541d45caac"
  },
  "language_info": {
   "codemirror_mode": {
    "name": "ipython",
    "version": 3
   },
   "file_extension": ".py",
   "mimetype": "text/x-python",
   "name": "python",
   "nbconvert_exporter": "python",
   "pygments_lexer": "ipython3",
   "version": "3.8.1"
  }
 },
 "nbformat": 4,
 "nbformat_minor": 4
}
